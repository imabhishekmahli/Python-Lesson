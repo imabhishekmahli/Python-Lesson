{
  "nbformat": 4,
  "nbformat_minor": 0,
  "metadata": {
    "colab": {
      "provenance": [],
      "authorship_tag": "ABX9TyPDPfgDlVKPf5D5O/K8slSK",
      "include_colab_link": true
    },
    "kernelspec": {
      "name": "python3",
      "display_name": "Python 3"
    },
    "language_info": {
      "name": "python"
    }
  },
  "cells": [
    {
      "cell_type": "markdown",
      "metadata": {
        "id": "view-in-github",
        "colab_type": "text"
      },
      "source": [
        "<a href=\"https://colab.research.google.com/github/imabhishekmahli/Python-Lesson/blob/main/11_File_Handling_%2C_Serialization_and_Deserialization.ipynb\" target=\"_parent\"><img src=\"https://colab.research.google.com/assets/colab-badge.svg\" alt=\"Open In Colab\"/></a>"
      ]
    },
    {
      "cell_type": "code",
      "execution_count": null,
      "metadata": {
        "id": "kQAZzPjUxRaP"
      },
      "outputs": [],
      "source": []
    },
    {
      "cell_type": "markdown",
      "source": [
        "# Writing to a file"
      ],
      "metadata": {
        "id": "CU6_0tXgxcqc"
      }
    },
    {
      "cell_type": "code",
      "source": [
        "# case 1 : if the file is not present\n",
        "f = open('sample.txt','w')\n",
        "f.write('hello world')\n",
        "f.close()\n",
        "#since file is closed hence this will not work\n",
        "#f.write('hello')"
      ],
      "metadata": {
        "id": "JN1EPM9oxfYZ"
      },
      "execution_count": 1,
      "outputs": []
    },
    {
      "cell_type": "code",
      "source": [
        "# write multiline strings\n",
        "f = open('sample1.txt','w')\n",
        "f.write('my name is abhishek kumar')\n",
        "f.write('\\nand im a data scientst')\n",
        "f.close()"
      ],
      "metadata": {
        "id": "5xQg9X1KxumF"
      },
      "execution_count": 2,
      "outputs": []
    },
    {
      "cell_type": "code",
      "source": [
        "#case 2 : if the file is already present\n",
        "# if you overwrite than the data of the previous file will vanish.\n",
        "f = open('sample.txt','w')\n",
        "f.write('welcome to my world')\n",
        "f.close()"
      ],
      "metadata": {
        "id": "POYeW7KnyyPG"
      },
      "execution_count": 3,
      "outputs": []
    },
    {
      "cell_type": "code",
      "source": [
        "# how exactly open() works?"
      ],
      "metadata": {
        "id": "3Epup2GWzHS2"
      },
      "execution_count": 4,
      "outputs": []
    },
    {
      "cell_type": "code",
      "source": [
        "# problem with w mode\n",
        "# introducing append mode\n",
        "f = open('sample1.txt','a')\n",
        "f.write('\\n i gave append this file')\n",
        "f.close()"
      ],
      "metadata": {
        "id": "EF_j7d1GzuhM"
      },
      "execution_count": 5,
      "outputs": []
    },
    {
      "cell_type": "code",
      "source": [
        "# write lines\n",
        "l = ['hellp\\n','hi\\n','how are you\\n','i am fine']\n",
        "f = open('sample.txt','w')\n",
        "f.writelines(l)\n",
        "f.close()"
      ],
      "metadata": {
        "id": "rp75gS3V0Agc"
      },
      "execution_count": 6,
      "outputs": []
    },
    {
      "cell_type": "code",
      "source": [
        "# reading from files\n",
        "# -> using read( )\n",
        "f = open('sample1.txt','r')\n",
        "f.read()\n",
        "f.close()"
      ],
      "metadata": {
        "id": "0AKsZcCs0f4Z"
      },
      "execution_count": 7,
      "outputs": []
    },
    {
      "cell_type": "code",
      "source": [
        "f = open('sample.txt','r')\n",
        "print(f.readline(),end='')\n",
        "print(f.readline(),end='')\n",
        "print(f.readline())\n",
        "f.close()"
      ],
      "metadata": {
        "colab": {
          "base_uri": "https://localhost:8080/"
        },
        "id": "h8ACBv_h492p",
        "outputId": "8f1c0eb7-65ed-4073-b4d9-a3418e0a689d"
      },
      "execution_count": 8,
      "outputs": [
        {
          "output_type": "stream",
          "name": "stdout",
          "text": [
            "hellp\n",
            "hi\n",
            "how are you\n",
            "\n"
          ]
        }
      ]
    },
    {
      "cell_type": "code",
      "source": [
        "# reading entire using readline\n",
        "f = open('sample.txt','r')\n",
        "\n",
        "while True:\n",
        "  data = f.readline()\n",
        "\n",
        "  if data == '':\n",
        "    break\n",
        "  else:\n",
        "    print(data,end='')\n",
        "\n",
        "f.close()"
      ],
      "metadata": {
        "colab": {
          "base_uri": "https://localhost:8080/"
        },
        "id": "91W-8KIB5NT3",
        "outputId": "4616e000-4fe1-4274-924e-d38b94046569"
      },
      "execution_count": 9,
      "outputs": [
        {
          "output_type": "stream",
          "name": "stdout",
          "text": [
            "hellp\n",
            "hi\n",
            "how are you\n",
            "i am fine"
          ]
        }
      ]
    },
    {
      "cell_type": "code",
      "source": [],
      "metadata": {
        "id": "_cvZ_ITc6Gsp"
      },
      "execution_count": 9,
      "outputs": []
    },
    {
      "cell_type": "markdown",
      "source": [
        "# Using Context Manager (With)\n",
        "* its a good idea to close a file after usage as it will free up the resources.\n",
        "* if we dont close it, garbage collector would close it \n",
        "* with keyword closes the file as soon as the usage is over"
      ],
      "metadata": {
        "id": "RgCBK7ZkkElu"
      }
    },
    {
      "cell_type": "code",
      "source": [
        "# with\n",
        "with open('sample.txt','w') as f:\n",
        "  f.write('selmon bhai')"
      ],
      "metadata": {
        "id": "ifd7g1Z3kInK"
      },
      "execution_count": 10,
      "outputs": []
    },
    {
      "cell_type": "code",
      "source": [
        "# try f.read() now\n",
        "with open ('sample1.txt','r') as f:\n",
        "  print(f.read())"
      ],
      "metadata": {
        "colab": {
          "base_uri": "https://localhost:8080/"
        },
        "id": "hMc6J8M_k77u",
        "outputId": "f89d0915-b464-4388-820f-f352bf39977b"
      },
      "execution_count": 11,
      "outputs": [
        {
          "output_type": "stream",
          "name": "stdout",
          "text": [
            "my name is abhishek kumar\n",
            "and im a data scientst\n",
            " i gave append this file\n"
          ]
        }
      ]
    },
    {
      "cell_type": "code",
      "source": [
        "# moving within a file -> 10 char then 10 char\n",
        "with open ('sample1.txt','r') as f:\n",
        "  print(f.read(10))\n",
        "  print(f.read(10))"
      ],
      "metadata": {
        "colab": {
          "base_uri": "https://localhost:8080/"
        },
        "id": "Ikq4DIfFlLN2",
        "outputId": "693426d7-d9eb-45d9-fbf9-7e341d12869d"
      },
      "execution_count": 13,
      "outputs": [
        {
          "output_type": "stream",
          "name": "stdout",
          "text": [
            "my name is\n",
            " abhishek \n"
          ]
        }
      ]
    },
    {
      "cell_type": "code",
      "source": [
        "# benefit ? -> to load a big file in memory\n",
        "big_L = ['hello world' for i in range(1000)]\n",
        "\n",
        "with open('big.txt','w') as f:\n",
        "  f.writelines(big_L)"
      ],
      "metadata": {
        "id": "I0lpCOsjleEm"
      },
      "execution_count": 16,
      "outputs": []
    },
    {
      "cell_type": "code",
      "source": [
        "with open('big.txt','r') as f:\n",
        "  chunk_size = 10\n",
        "\n",
        "  while len(f.read(chunk_size)) > 0:\n",
        "    print(f.read(chunk_size),end='**')\n",
        "    f.read(chunk_size)"
      ],
      "metadata": {
        "colab": {
          "base_uri": "https://localhost:8080/"
        },
        "id": "59aneGUImEpn",
        "outputId": "4f691ba4-efeb-4f38-db15-d874d30383e1"
      },
      "execution_count": 20,
      "outputs": [
        {
          "output_type": "stream",
          "name": "stdout",
          "text": [
            "dhello wor**orldhello **o worldhel**ello world**ldhello wo**worldhello**lo worldhe**hello worl**rldhello w** worldhell**llo worldh**dhello wor**orldhello **o worldhel**ello world**ldhello wo**worldhello**lo worldhe**hello worl**rldhello w** worldhell**llo worldh**dhello wor**orldhello **o worldhel**ello world**ldhello wo**worldhello**lo worldhe**hello worl**rldhello w** worldhell**llo worldh**dhello wor**orldhello **o worldhel**ello world**ldhello wo**worldhello**lo worldhe**hello worl**rldhello w** worldhell**llo worldh**dhello wor**orldhello **o worldhel**ello world**ldhello wo**worldhello**lo worldhe**hello worl**rldhello w** worldhell**llo worldh**dhello wor**orldhello **o worldhel**ello world**ldhello wo**worldhello**lo worldhe**hello worl**rldhello w** worldhell**llo worldh**dhello wor**orldhello **o worldhel**ello world**ldhello wo**worldhello**lo worldhe**hello worl**rldhello w** worldhell**llo worldh**dhello wor**orldhello **o worldhel**ello world**ldhello wo**worldhello**lo worldhe**hello worl**rldhello w** worldhell**llo worldh**dhello wor**orldhello **o worldhel**ello world**ldhello wo**worldhello**lo worldhe**hello worl**rldhello w** worldhell**llo worldh**dhello wor**orldhello **o worldhel**ello world**ldhello wo**worldhello**lo worldhe**hello worl**rldhello w** worldhell**llo worldh**dhello wor**orldhello **o worldhel**ello world**ldhello wo**worldhello**lo worldhe**hello worl**rldhello w** worldhell**llo worldh**dhello wor**orldhello **o worldhel**ello world**ldhello wo**worldhello**lo worldhe**hello worl**rldhello w** worldhell**llo worldh**dhello wor**orldhello **o worldhel**ello world**ldhello wo**worldhello**lo worldhe**hello worl**rldhello w** worldhell**llo worldh**dhello wor**orldhello **o worldhel**ello world**ldhello wo**worldhello**lo worldhe**hello worl**rldhello w** worldhell**llo worldh**dhello wor**orldhello **o worldhel**ello world**ldhello wo**worldhello**lo worldhe**hello worl**rldhello w** worldhell**llo worldh**dhello wor**orldhello **o worldhel**ello world**ldhello wo**worldhello**lo worldhe**hello worl**rldhello w** worldhell**llo worldh**dhello wor**orldhello **o worldhel**ello world**ldhello wo**worldhello**lo worldhe**hello worl**rldhello w** worldhell**llo worldh**dhello wor**orldhello **o worldhel**ello world**ldhello wo**worldhello**lo worldhe**hello worl**rldhello w** worldhell**llo worldh**dhello wor**orldhello **o worldhel**ello world**ldhello wo**worldhello**lo worldhe**hello worl**rldhello w** worldhell**llo worldh**dhello wor**orldhello **o worldhel**ello world**ldhello wo**worldhello**lo worldhe**hello worl**rldhello w** worldhell**llo worldh**dhello wor**orldhello **o worldhel**ello world**ldhello wo**worldhello**lo worldhe**hello worl**rldhello w** worldhell**llo worldh**dhello wor**orldhello **o worldhel**ello world**ldhello wo**worldhello**lo worldhe**hello worl**rldhello w** worldhell**llo worldh**dhello wor**orldhello **o worldhel**ello world**ldhello wo**worldhello**lo worldhe**hello worl**rldhello w** worldhell**llo worldh**dhello wor**orldhello **o worldhel**ello world**ldhello wo**worldhello**lo worldhe**hello worl**rldhello w** worldhell**llo worldh**dhello wor**orldhello **o worldhel**ello world**ldhello wo**worldhello**lo worldhe**hello worl**rldhello w** worldhell**llo worldh**dhello wor**orldhello **o worldhel**ello world**ldhello wo**worldhello**lo worldhe**hello worl**rldhello w** worldhell**llo worldh**dhello wor**orldhello **o worldhel**ello world**ldhello wo**worldhello**lo worldhe**hello worl**rldhello w** worldhell**llo worldh**dhello wor**orldhello **o worldhel**ello world**ldhello wo**worldhello**lo worldhe**hello worl**rldhello w** worldhell**llo worldh**dhello wor**orldhello **o worldhel**ello world**ldhello wo**worldhello**lo worldhe**hello worl**rldhello w** worldhell**llo worldh**dhello wor**orldhello **o worldhel**ello world**ldhello wo**worldhello**lo worldhe**hello worl**rldhello w** worldhell**llo worldh**dhello wor**orldhello **o worldhel**ello world**ldhello wo**worldhello**lo worldhe**hello worl**rldhello w** worldhell**llo worldh**dhello wor**orldhello **o worldhel**ello world**ldhello wo**worldhello**lo worldhe**hello worl**rldhello w** worldhell**llo worldh**dhello wor**orldhello **o worldhel**ello world**ldhello wo**worldhello**lo worldhe**hello worl**rldhello w** worldhell**llo worldh**dhello wor**orldhello **o worldhel**ello world**"
          ]
        }
      ]
    },
    {
      "cell_type": "code",
      "source": [
        "# seek and tell function\n",
        "with open('sample1.txt','r') as f:\n",
        "  print(f.read(10))\n",
        "  print(f.tell()) # how many characters have been precessed and next what will processed.\n",
        "  f.seek(0)  # kahi v ja sakte ho eg(youtube red line )\n",
        "  print(f.read(10))\n",
        "  print(f.tell())"
      ],
      "metadata": {
        "colab": {
          "base_uri": "https://localhost:8080/"
        },
        "id": "pO7RHxwzmj6B",
        "outputId": "923ac76c-77f0-4066-b37d-2f339d671d9f"
      },
      "execution_count": 30,
      "outputs": [
        {
          "output_type": "stream",
          "name": "stdout",
          "text": [
            "my name is\n",
            "10\n",
            "my name is\n",
            "10\n"
          ]
        }
      ]
    },
    {
      "cell_type": "code",
      "source": [
        "# seek during write\n",
        "with open('sample1.txt','w') as f:\n",
        "  f.write('Hello')\n",
        "  f.seek(0)\n",
        "  f.write('x')"
      ],
      "metadata": {
        "id": "-r3CrkOmnPDE"
      },
      "execution_count": 31,
      "outputs": []
    },
    {
      "cell_type": "code",
      "source": [],
      "metadata": {
        "id": "u-IqZMZzpUk0"
      },
      "execution_count": null,
      "outputs": []
    },
    {
      "cell_type": "markdown",
      "source": [
        "# Problems with working in text mode\n",
        "\n",
        "* cant work with binary file like image\n",
        "* not good for other data types like int/flota/list/tuples"
      ],
      "metadata": {
        "id": "dp6ngOkmpjK0"
      }
    },
    {
      "cell_type": "code",
      "source": [
        "# working with binary file\n",
        "with open('1.png','r') as f:\n",
        "  f.read()"
      ],
      "metadata": {
        "colab": {
          "base_uri": "https://localhost:8080/",
          "height": 321
        },
        "id": "2UhOcSU0pxcX",
        "outputId": "7ccff94f-a52b-4927-c696-d2118a5af9f4"
      },
      "execution_count": 32,
      "outputs": [
        {
          "output_type": "error",
          "ename": "UnicodeDecodeError",
          "evalue": "ignored",
          "traceback": [
            "\u001b[0;31m---------------------------------------------------------------------------\u001b[0m",
            "\u001b[0;31mUnicodeDecodeError\u001b[0m                        Traceback (most recent call last)",
            "\u001b[0;32m<ipython-input-32-fcdaafabf6df>\u001b[0m in \u001b[0;36m<module>\u001b[0;34m\u001b[0m\n\u001b[1;32m      1\u001b[0m \u001b[0;31m# working with binary file\u001b[0m\u001b[0;34m\u001b[0m\u001b[0;34m\u001b[0m\u001b[0;34m\u001b[0m\u001b[0m\n\u001b[1;32m      2\u001b[0m \u001b[0;32mwith\u001b[0m \u001b[0mopen\u001b[0m\u001b[0;34m(\u001b[0m\u001b[0;34m'1.png'\u001b[0m\u001b[0;34m,\u001b[0m\u001b[0;34m'r'\u001b[0m\u001b[0;34m)\u001b[0m \u001b[0;32mas\u001b[0m \u001b[0mf\u001b[0m\u001b[0;34m:\u001b[0m\u001b[0;34m\u001b[0m\u001b[0;34m\u001b[0m\u001b[0m\n\u001b[0;32m----> 3\u001b[0;31m   \u001b[0mf\u001b[0m\u001b[0;34m.\u001b[0m\u001b[0mread\u001b[0m\u001b[0;34m(\u001b[0m\u001b[0;34m)\u001b[0m\u001b[0;34m\u001b[0m\u001b[0;34m\u001b[0m\u001b[0m\n\u001b[0m",
            "\u001b[0;32m/usr/lib/python3.8/codecs.py\u001b[0m in \u001b[0;36mdecode\u001b[0;34m(self, input, final)\u001b[0m\n\u001b[1;32m    320\u001b[0m         \u001b[0;31m# decode input (taking the buffer into account)\u001b[0m\u001b[0;34m\u001b[0m\u001b[0;34m\u001b[0m\u001b[0;34m\u001b[0m\u001b[0m\n\u001b[1;32m    321\u001b[0m         \u001b[0mdata\u001b[0m \u001b[0;34m=\u001b[0m \u001b[0mself\u001b[0m\u001b[0;34m.\u001b[0m\u001b[0mbuffer\u001b[0m \u001b[0;34m+\u001b[0m \u001b[0minput\u001b[0m\u001b[0;34m\u001b[0m\u001b[0;34m\u001b[0m\u001b[0m\n\u001b[0;32m--> 322\u001b[0;31m         \u001b[0;34m(\u001b[0m\u001b[0mresult\u001b[0m\u001b[0;34m,\u001b[0m \u001b[0mconsumed\u001b[0m\u001b[0;34m)\u001b[0m \u001b[0;34m=\u001b[0m \u001b[0mself\u001b[0m\u001b[0;34m.\u001b[0m\u001b[0m_buffer_decode\u001b[0m\u001b[0;34m(\u001b[0m\u001b[0mdata\u001b[0m\u001b[0;34m,\u001b[0m \u001b[0mself\u001b[0m\u001b[0;34m.\u001b[0m\u001b[0merrors\u001b[0m\u001b[0;34m,\u001b[0m \u001b[0mfinal\u001b[0m\u001b[0;34m)\u001b[0m\u001b[0;34m\u001b[0m\u001b[0;34m\u001b[0m\u001b[0m\n\u001b[0m\u001b[1;32m    323\u001b[0m         \u001b[0;31m# keep undecoded input until the next call\u001b[0m\u001b[0;34m\u001b[0m\u001b[0;34m\u001b[0m\u001b[0;34m\u001b[0m\u001b[0m\n\u001b[1;32m    324\u001b[0m         \u001b[0mself\u001b[0m\u001b[0;34m.\u001b[0m\u001b[0mbuffer\u001b[0m \u001b[0;34m=\u001b[0m \u001b[0mdata\u001b[0m\u001b[0;34m[\u001b[0m\u001b[0mconsumed\u001b[0m\u001b[0;34m:\u001b[0m\u001b[0;34m]\u001b[0m\u001b[0;34m\u001b[0m\u001b[0;34m\u001b[0m\u001b[0m\n",
            "\u001b[0;31mUnicodeDecodeError\u001b[0m: 'utf-8' codec can't decode byte 0x89 in position 0: invalid start byte"
          ]
        }
      ]
    },
    {
      "cell_type": "code",
      "source": [
        "# working with binary file\n",
        "with open('1.png','rb') as f:  # rb :  read binary\n",
        "  with open('1_copy.png','wb') as wf:  # wb  : write binary\n",
        "    wf.write(f.read())"
      ],
      "metadata": {
        "id": "XBNNHrC22Ud3"
      },
      "execution_count": 33,
      "outputs": []
    },
    {
      "cell_type": "code",
      "source": [
        "# working with big binary file\n"
      ],
      "metadata": {
        "id": "7w1Um5ze3EPH"
      },
      "execution_count": 34,
      "outputs": []
    },
    {
      "cell_type": "code",
      "source": [
        "# working with other data type\n",
        "with open('sample1.txt','w') as f:\n",
        "  f.write(10)"
      ],
      "metadata": {
        "colab": {
          "base_uri": "https://localhost:8080/",
          "height": 200
        },
        "id": "zWjg2soZ3aNX",
        "outputId": "bba435eb-1437-4f48-c158-68d2dd643fe1"
      },
      "execution_count": 35,
      "outputs": [
        {
          "output_type": "error",
          "ename": "TypeError",
          "evalue": "ignored",
          "traceback": [
            "\u001b[0;31m---------------------------------------------------------------------------\u001b[0m",
            "\u001b[0;31mTypeError\u001b[0m                                 Traceback (most recent call last)",
            "\u001b[0;32m<ipython-input-35-1054ccd681d6>\u001b[0m in \u001b[0;36m<module>\u001b[0;34m\u001b[0m\n\u001b[1;32m      1\u001b[0m \u001b[0;31m# working with other data type\u001b[0m\u001b[0;34m\u001b[0m\u001b[0;34m\u001b[0m\u001b[0;34m\u001b[0m\u001b[0m\n\u001b[1;32m      2\u001b[0m \u001b[0;32mwith\u001b[0m \u001b[0mopen\u001b[0m\u001b[0;34m(\u001b[0m\u001b[0;34m'sample1.txt'\u001b[0m\u001b[0;34m,\u001b[0m\u001b[0;34m'w'\u001b[0m\u001b[0;34m)\u001b[0m \u001b[0;32mas\u001b[0m \u001b[0mf\u001b[0m\u001b[0;34m:\u001b[0m\u001b[0;34m\u001b[0m\u001b[0;34m\u001b[0m\u001b[0m\n\u001b[0;32m----> 3\u001b[0;31m   \u001b[0mf\u001b[0m\u001b[0;34m.\u001b[0m\u001b[0mwrite\u001b[0m\u001b[0;34m(\u001b[0m\u001b[0;36m10\u001b[0m\u001b[0;34m)\u001b[0m\u001b[0;34m\u001b[0m\u001b[0;34m\u001b[0m\u001b[0m\n\u001b[0m",
            "\u001b[0;31mTypeError\u001b[0m: write() argument must be str, not int"
          ]
        }
      ]
    },
    {
      "cell_type": "code",
      "source": [
        "with open('sample1.txt','w') as f:\n",
        "  f.write('100')"
      ],
      "metadata": {
        "id": "uyZ3pZsX3mlJ"
      },
      "execution_count": 42,
      "outputs": []
    },
    {
      "cell_type": "code",
      "source": [
        "with open('sample1.txt','r') as f:\n",
        "  print(int(f.read())+5)"
      ],
      "metadata": {
        "colab": {
          "base_uri": "https://localhost:8080/"
        },
        "id": "n2ed1s443wJd",
        "outputId": "c774abd1-5cba-4b78-d368-d113d80a611c"
      },
      "execution_count": 43,
      "outputs": [
        {
          "output_type": "stream",
          "name": "stdout",
          "text": [
            "105\n"
          ]
        }
      ]
    },
    {
      "cell_type": "code",
      "source": [
        "# more complex data\n",
        "d = {\n",
        "    'name' : 'abhishek',\n",
        "    'age' : 25,\n",
        "     'gender' : 'male'\n",
        "}\n",
        "\n",
        "with open('sample.txt','w') as f:\n",
        "  f.write(str(d))"
      ],
      "metadata": {
        "id": "fcsnI8Rf35pn"
      },
      "execution_count": 46,
      "outputs": []
    },
    {
      "cell_type": "code",
      "source": [
        "with open('sample.txt','r') as f:\n",
        "  print(f.read())\n",
        "  print(type(f.read()))"
      ],
      "metadata": {
        "colab": {
          "base_uri": "https://localhost:8080/"
        },
        "id": "tKYYDeQ74rAe",
        "outputId": "d04d1bdc-232d-4af8-c914-d4eeb8ba25c0"
      },
      "execution_count": 49,
      "outputs": [
        {
          "output_type": "stream",
          "name": "stdout",
          "text": [
            "{'name': 'abhishek', 'age': 25, 'gender': 'male'}\n",
            "<class 'str'>\n"
          ]
        }
      ]
    },
    {
      "cell_type": "code",
      "source": [],
      "metadata": {
        "id": "6tLQ_nWf4_la"
      },
      "execution_count": null,
      "outputs": []
    },
    {
      "cell_type": "markdown",
      "source": [
        "# Serialization and Deserialization\n",
        "* Serialization -> proecess of converting python data types to JSON format\n",
        "* Deserialization -> proecess of converting JSON to python data types"
      ],
      "metadata": {
        "id": "AaeYagKz6B5x"
      }
    },
    {
      "cell_type": "code",
      "source": [
        "# serialization using json module\n",
        "# list\n",
        "\n",
        "import json\n",
        "L = [1,2,3,4]\n",
        "\n",
        "with open('demo.json','w') as f:\n",
        "  json.dump(L,f)"
      ],
      "metadata": {
        "id": "gaz5RePE6E3u"
      },
      "execution_count": 51,
      "outputs": []
    },
    {
      "cell_type": "code",
      "source": [
        "# dictionary\n",
        "\n",
        "d = {\n",
        "    'name' : 'abhishek Kumar',\n",
        "     'gender' : 'male',\n",
        "     'age' : 25\n",
        "}\n",
        "\n",
        "with open('demo1.json','w') as f:\n",
        "  json.dump(d,f,indent=4)"
      ],
      "metadata": {
        "id": "jcrYQVe_8CC2"
      },
      "execution_count": 53,
      "outputs": []
    },
    {
      "cell_type": "code",
      "source": [
        "# deserialization\n",
        "import json\n",
        "with open('demo1.json','r') as f:\n",
        "  d=json.load(f)\n",
        "  print(d)\n",
        "  print(type(d))\n"
      ],
      "metadata": {
        "colab": {
          "base_uri": "https://localhost:8080/"
        },
        "id": "rWiUWLCF8kyO",
        "outputId": "4fa8f5f4-542f-47ab-ed57-2f219debc6d6"
      },
      "execution_count": 57,
      "outputs": [
        {
          "output_type": "stream",
          "name": "stdout",
          "text": [
            "{'name': 'abhishek Kumar', 'gender': 'male', 'age': 25}\n",
            "<class 'dict'>\n"
          ]
        }
      ]
    },
    {
      "cell_type": "code",
      "source": [
        "# serialization and deserialization in tuple\n",
        "import json\n",
        "\n",
        "t = (1,2,3,4,5)\n",
        "\n",
        "with open('demo_tupe.json','w') as f:\n",
        "  json.dump(t,f)\n",
        "\n",
        "# tupele will store as list"
      ],
      "metadata": {
        "id": "_YLgawtd870m"
      },
      "execution_count": 58,
      "outputs": []
    },
    {
      "cell_type": "code",
      "source": [],
      "metadata": {
        "id": "hqchxWxP-idi"
      },
      "execution_count": null,
      "outputs": []
    },
    {
      "cell_type": "markdown",
      "source": [
        "# serialization and deserialization custom object "
      ],
      "metadata": {
        "id": "tWLmKHlh-_s_"
      }
    },
    {
      "cell_type": "code",
      "source": [
        "class Person:\n",
        "\n",
        "  def __init__(self,fname,lname,age,gender):\n",
        "    self.fname = fname\n",
        "    self.lname = lname\n",
        "    self.age = age\n",
        "    self.gender = gender\n",
        "\n",
        "    # format to printed in\n",
        "    # -> abhishek kumar age-> 25 gender->male"
      ],
      "metadata": {
        "id": "KQ_nBRZD_H4_"
      },
      "execution_count": 63,
      "outputs": []
    },
    {
      "cell_type": "code",
      "source": [
        "person = Person('abhishek','kumar',25,'male')"
      ],
      "metadata": {
        "id": "4zi1wJ4sCxcu"
      },
      "execution_count": 64,
      "outputs": []
    },
    {
      "cell_type": "code",
      "source": [
        "# as a string\n",
        "import json\n",
        "\n",
        "def show_object(person):\n",
        "  if isinstance(person,Person):\n",
        "    return \"{} {} age-> {} gender-> {}\".format(person.fname,person.lname,person.age,person.gender)\n",
        "\n",
        "with open('custom_object.json','w') as f:\n",
        "  json.dump(person,f,default=show_object)"
      ],
      "metadata": {
        "id": "I8mVnZw-C3gA"
      },
      "execution_count": 67,
      "outputs": []
    },
    {
      "cell_type": "code",
      "source": [
        "# as dict\n",
        "import json\n",
        "\n",
        "def show_object(person):\n",
        "  if isinstance(person,Person):\n",
        "    return {'name': person.fname + \" \" + person.lname,'age':person.age,'gender':person.gender}\n",
        "\n",
        "with open('custom_object.json','w') as f:\n",
        "  json.dump(person,f,default=show_object,indent=4)"
      ],
      "metadata": {
        "id": "_m5SC18tDC73"
      },
      "execution_count": 69,
      "outputs": []
    },
    {
      "cell_type": "code",
      "source": [
        "# deserialization\n",
        "import json\n",
        "with open('custom_object.json','r') as f:\n",
        "  #print(f.read())\n",
        "  print(json.load(f))"
      ],
      "metadata": {
        "colab": {
          "base_uri": "https://localhost:8080/"
        },
        "id": "9uOKCzHyERMB",
        "outputId": "7169fa94-e8c4-437c-d76f-08ecafa8d038"
      },
      "execution_count": 72,
      "outputs": [
        {
          "output_type": "stream",
          "name": "stdout",
          "text": [
            "{'name': 'abhishek kumar', 'age': 25, 'gender': 'male'}\n"
          ]
        }
      ]
    },
    {
      "cell_type": "markdown",
      "source": [
        "# Pickling\n",
        "* Pickling is the process whereby a pyton object hierarchy is converted into a byte stream and #unpickling is the reverse operation, where a byte stream (from a binary file or bytes-like object) is converted back into an object hierarchy."
      ],
      "metadata": {
        "id": "HhhswH3aEyv6"
      }
    },
    {
      "cell_type": "code",
      "source": [
        "class Student:\n",
        "\n",
        "  def __init__(self,name,age):\n",
        "    self.name = name\n",
        "    self.age = age\n",
        "\n",
        "  def display_info(self):\n",
        "    print('hi my name is ',self.name,'and im ',self.age,' years old')"
      ],
      "metadata": {
        "id": "5z8uQI98Ej0U"
      },
      "execution_count": 73,
      "outputs": []
    },
    {
      "cell_type": "code",
      "source": [
        "p = Student('abhishek Kuamr',25)"
      ],
      "metadata": {
        "id": "Vcaz6lTHGFI_"
      },
      "execution_count": 74,
      "outputs": []
    },
    {
      "cell_type": "code",
      "source": [
        "import pickle\n",
        "with open('student.pkl','wb') as f:\n",
        "  pickle.dump(p,f)\n"
      ],
      "metadata": {
        "id": "9ZCxdnaMGJXZ"
      },
      "execution_count": 75,
      "outputs": []
    },
    {
      "cell_type": "code",
      "source": [
        "import pickle\n",
        "\n",
        "with open('student.pkl','rb') as f:\n",
        "  p = pickle.load(f)\n",
        "\n",
        "p.display_info()"
      ],
      "metadata": {
        "colab": {
          "base_uri": "https://localhost:8080/"
        },
        "id": "-a104Q-lGVsb",
        "outputId": "10d6add6-f484-405f-f126-803515dfff39"
      },
      "execution_count": 76,
      "outputs": [
        {
          "output_type": "stream",
          "name": "stdout",
          "text": [
            "hi my name is  abhishek Kuamr and im  25  years old\n"
          ]
        }
      ]
    },
    {
      "cell_type": "code",
      "source": [],
      "metadata": {
        "id": "fhkqa0E6GzQG"
      },
      "execution_count": null,
      "outputs": []
    },
    {
      "cell_type": "markdown",
      "source": [
        "# pickle vs json\n",
        "\n",
        "*Pickle lets the user to store data in binary format.\n",
        "\n",
        "*JSON lets the user to store data in human readable text format"
      ],
      "metadata": {
        "id": "qB-PGzuXG9PR"
      }
    },
    {
      "cell_type": "code",
      "source": [],
      "metadata": {
        "id": "zUSg0JHVHK5A"
      },
      "execution_count": null,
      "outputs": []
    }
  ]
}