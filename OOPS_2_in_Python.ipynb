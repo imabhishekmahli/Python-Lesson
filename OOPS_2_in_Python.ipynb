{
  "nbformat": 4,
  "nbformat_minor": 0,
  "metadata": {
    "colab": {
      "provenance": [],
      "authorship_tag": "ABX9TyPf6/v1Zj+4zuEGy/YdhLyS",
      "include_colab_link": true
    },
    "kernelspec": {
      "name": "python3",
      "display_name": "Python 3"
    },
    "language_info": {
      "name": "python"
    }
  },
  "cells": [
    {
      "cell_type": "markdown",
      "metadata": {
        "id": "view-in-github",
        "colab_type": "text"
      },
      "source": [
        "<a href=\"https://colab.research.google.com/github/imabhishekmahli/Python-Lesson/blob/main/OOPS_2_in_Python.ipynb\" target=\"_parent\"><img src=\"https://colab.research.google.com/assets/colab-badge.svg\" alt=\"Open In Colab\"/></a>"
      ]
    },
    {
      "cell_type": "code",
      "execution_count": 20,
      "metadata": {
        "id": "BESBulpcltlM"
      },
      "outputs": [],
      "source": [
        "class Point:\n",
        "  def __init__(self,x,y):\n",
        "    self.x_cod = x\n",
        "    self.y_cod = y\n",
        "\n",
        "  def __str__(self):\n",
        "    return '<{},{}>'.format(self.x_cod,self.y_cod)\n",
        "\n",
        "  def euclidean_distance(self,other):\n",
        "    return ((self.x_cod - other.x_cod)**2 + (self.y_cod - other.y_cod)**2)**0.5\n",
        "\n",
        "  def distance_from_origin(self):\n",
        "    return self.euclidean_distance(Point(0,0 ))\n",
        "\n",
        "\n",
        "class Line:\n",
        "  def __init__(self,A,B,C):\n",
        "    self.A = A\n",
        "    self.B = B\n",
        "    self.C = C\n",
        "\n",
        "  def __str__(self):\n",
        "      return '{}x + {}y + {} = 0'.format(self.A,self.B,self.C)\n",
        "\n",
        "\n",
        "  def point_on_line(line,point):\n",
        "    if line.A*point.x_cod + line.B*point.y_cod + line.C == 0:\n",
        "      return \"lies on the line\"\n",
        "    else:\n",
        "      return \"does not lie on the line\"\n",
        "\n",
        "\n",
        "  def shortest_distance(line,point):\n",
        "    return abs(line.A*point.x_cod + line.B*point.y_cod + line.C)/(line.A**2 + line.B**2)**0.5"
      ]
    },
    {
      "cell_type": "code",
      "source": [
        "p1 = Point(0,0)   # Euclidean Distance\n",
        "p2 = Point(-2,-4)\n",
        "p1.euclidean_distance(p2)"
      ],
      "metadata": {
        "colab": {
          "base_uri": "https://localhost:8080/"
        },
        "id": "L2Wezv5umILw",
        "outputId": "0ceac4cb-6d81-4e18-fd17-ede9f19bbcb7"
      },
      "execution_count": 22,
      "outputs": [
        {
          "output_type": "execute_result",
          "data": {
            "text/plain": [
              "4.47213595499958"
            ]
          },
          "metadata": {},
          "execution_count": 22
        }
      ]
    },
    {
      "cell_type": "code",
      "source": [
        "p3 = Point(5,5)   # Distance from origin\n",
        "p3.distance_from_origin()"
      ],
      "metadata": {
        "colab": {
          "base_uri": "https://localhost:8080/"
        },
        "id": "isH6jtvwmNSQ",
        "outputId": "14a59714-9794-4e2f-ae0e-942665a176f4"
      },
      "execution_count": 23,
      "outputs": [
        {
          "output_type": "execute_result",
          "data": {
            "text/plain": [
              "7.0710678118654755"
            ]
          },
          "metadata": {},
          "execution_count": 23
        }
      ]
    },
    {
      "cell_type": "code",
      "source": [
        "l1 = Line(1,1,-2)   # Point on Line\n",
        "p1 = Point(1,1)\n",
        "print(l1)\n",
        "\n",
        "l1.point_on_line(p1)"
      ],
      "metadata": {
        "colab": {
          "base_uri": "https://localhost:8080/",
          "height": 53
        },
        "id": "W98uN-bqoLGS",
        "outputId": "8d015b2b-9fbe-4f5f-b219-e98592e5c30c"
      },
      "execution_count": 24,
      "outputs": [
        {
          "output_type": "stream",
          "name": "stdout",
          "text": [
            "1x + 1y + -2 = 0\n"
          ]
        },
        {
          "output_type": "execute_result",
          "data": {
            "text/plain": [
              "'lies on the line'"
            ],
            "application/vnd.google.colaboratory.intrinsic+json": {
              "type": "string"
            }
          },
          "metadata": {},
          "execution_count": 24
        }
      ]
    },
    {
      "cell_type": "code",
      "source": [
        "l1 = Line(1,1,-2)  # shortest Distance\n",
        "p1 = Point(1,1)\n",
        "l1.shortest_distance(p1)"
      ],
      "metadata": {
        "colab": {
          "base_uri": "https://localhost:8080/"
        },
        "id": "Nuaq709opuXP",
        "outputId": "38b7e8b8-aae4-4695-8d72-9bccaa973d51"
      },
      "execution_count": 25,
      "outputs": [
        {
          "output_type": "execute_result",
          "data": {
            "text/plain": [
              "0.0"
            ]
          },
          "metadata": {},
          "execution_count": 25
        }
      ]
    },
    {
      "cell_type": "code",
      "source": [
        "class Person:\n",
        "  def __init__(self,name_input,country_input):\n",
        "    self.name = name_input\n",
        "    self.country = country_input\n",
        "\n",
        "  def greet(self):\n",
        "    if self.country == 'india':\n",
        "      print('namaste',self.name)\n",
        "    else:\n",
        "      print('hello',self.name)"
      ],
      "metadata": {
        "id": "LW_KCNrKNT49"
      },
      "execution_count": 26,
      "outputs": []
    },
    {
      "cell_type": "code",
      "source": [
        "gt = Person('abhishek','usa')"
      ],
      "metadata": {
        "id": "KJM_PxO8mm9b"
      },
      "execution_count": 31,
      "outputs": []
    },
    {
      "cell_type": "code",
      "source": [
        "gt.greet()"
      ],
      "metadata": {
        "colab": {
          "base_uri": "https://localhost:8080/"
        },
        "id": "KuRfGvNVmryO",
        "outputId": "e1c33517-feb0-452f-a5c1-a5cc4231405e"
      },
      "execution_count": 32,
      "outputs": [
        {
          "output_type": "stream",
          "name": "stdout",
          "text": [
            "hello abhishek\n"
          ]
        }
      ]
    },
    {
      "cell_type": "code",
      "source": [
        "gt.gender"
      ],
      "metadata": {
        "colab": {
          "base_uri": "https://localhost:8080/",
          "height": 36
        },
        "id": "UNe2qPc4my93",
        "outputId": "a73aefcd-edf6-461a-96e6-1104cd4bffcf"
      },
      "execution_count": 35,
      "outputs": [
        {
          "output_type": "execute_result",
          "data": {
            "text/plain": [
              "'male'"
            ],
            "application/vnd.google.colaboratory.intrinsic+json": {
              "type": "string"
            }
          },
          "metadata": {},
          "execution_count": 35
        }
      ]
    },
    {
      "cell_type": "code",
      "source": [
        "gt.gender = 'male'  # using the object if you want you can make attributes outside the class."
      ],
      "metadata": {
        "id": "BxboFoJ8nVj1"
      },
      "execution_count": 36,
      "outputs": []
    },
    {
      "cell_type": "code",
      "source": [],
      "metadata": {
        "id": "Pu6QFCrunawc"
      },
      "execution_count": null,
      "outputs": []
    },
    {
      "cell_type": "markdown",
      "source": [
        "# Reference Variable"
      ],
      "metadata": {
        "id": "8IWZtlvxnzWF"
      }
    },
    {
      "cell_type": "code",
      "source": [],
      "metadata": {
        "id": "5FPz-u3csAL7"
      },
      "execution_count": null,
      "outputs": []
    },
    {
      "cell_type": "markdown",
      "source": [
        "Reference variables hold the objects\n",
        "We can create objects without reference variable as well\n",
        "An object can have multiple reference variables\n",
        "Assigning a new reference variable to an existing object does not create a new object"
      ],
      "metadata": {
        "id": "qn1F4YsjsENh"
      }
    },
    {
      "cell_type": "code",
      "source": [
        "class Student:\n",
        "  def __init__(self):\n",
        "    self.name = 'abhishek'\n",
        "    self.gender = 'male'"
      ],
      "metadata": {
        "id": "Vv5mXI7mn1qF"
      },
      "execution_count": 42,
      "outputs": []
    },
    {
      "cell_type": "code",
      "source": [],
      "metadata": {
        "id": "50dVCaMMr_PY"
      },
      "execution_count": null,
      "outputs": []
    },
    {
      "cell_type": "code",
      "source": [
        "Student()  # object is just a variable name which has the memory address of the object"
      ],
      "metadata": {
        "colab": {
          "base_uri": "https://localhost:8080/"
        },
        "id": "dGmI_PbgoHFW",
        "outputId": "7a2659e5-cd94-4c41-f9df-8ea901988fff"
      },
      "execution_count": 44,
      "outputs": [
        {
          "output_type": "execute_result",
          "data": {
            "text/plain": [
              "<__main__.Student at 0x7f04a31106a0>"
            ]
          },
          "metadata": {},
          "execution_count": 44
        }
      ]
    },
    {
      "cell_type": "markdown",
      "source": [
        "# pass by reference"
      ],
      "metadata": {
        "id": "us8NW5ZtsLJI"
      }
    },
    {
      "cell_type": "code",
      "source": [
        "# class ka object as input to the function\n",
        "\n",
        " class Person:  \n",
        "   def __init__(self,name,gender):\n",
        "     self.name = name \n",
        "     self.gender = gender\n",
        "\n",
        "# outside the class -> function\n",
        "\n",
        "def greet(person):\n",
        "  print('hi my name is ',person.name , 'and im a ',person.gender)\n",
        "\n",
        "p = Person('abhishek','male')\n",
        "greet(p)"
      ],
      "metadata": {
        "colab": {
          "base_uri": "https://localhost:8080/"
        },
        "id": "SUFDoL8WoL1L",
        "outputId": "d43f6f4a-cbe8-4655-f0ac-a5c78b03e3e7"
      },
      "execution_count": 45,
      "outputs": [
        {
          "output_type": "stream",
          "name": "stdout",
          "text": [
            "hi my name is  abhishek and im a  male\n"
          ]
        }
      ]
    },
    {
      "cell_type": "markdown",
      "source": [
        "# Encapsulation "
      ],
      "metadata": {
        "id": "zJxSmaBiKdnb"
      }
    },
    {
      "cell_type": "code",
      "source": [
        "# Process of hiding informantion within an object"
      ],
      "metadata": {
        "id": "JWXw4PgetT8T"
      },
      "execution_count": 1,
      "outputs": []
    },
    {
      "cell_type": "code",
      "source": [
        "# what is instance variable ?\n",
        "# -> A variable whose value is different for different objects.\n",
        "\n",
        "# instance variable , object ka variable hota h."
      ],
      "metadata": {
        "id": "hWZTdCTjLNXI"
      },
      "execution_count": 18,
      "outputs": []
    },
    {
      "cell_type": "code",
      "source": [
        "# to make an attribute PRIVATE you have to put __name in starting of it."
      ],
      "metadata": {
        "id": "FYu0MgKFNsjg"
      },
      "execution_count": 3,
      "outputs": []
    },
    {
      "cell_type": "code",
      "source": [
        "# Nothing truly private in python"
      ],
      "metadata": {
        "id": "zc9dNdJ9N0Q3"
      },
      "execution_count": 4,
      "outputs": []
    },
    {
      "cell_type": "code",
      "source": [
        "# getter and setter\n",
        "# getter -> to show private value outside\n",
        "# setter -> to change private value from outside"
      ],
      "metadata": {
        "id": "I9yqiy1jQAK4"
      },
      "execution_count": null,
      "outputs": []
    },
    {
      "cell_type": "markdown",
      "source": [
        "# collection of objects"
      ],
      "metadata": {
        "id": "dhayu93tSKCo"
      }
    },
    {
      "cell_type": "code",
      "source": [
        "class Person:\n",
        "  def __init__(self,name,gender):\n",
        "    self.name = name\n",
        "    self.gender = gender  "
      ],
      "metadata": {
        "id": "OdmEB-zGSMZe"
      },
      "execution_count": 9,
      "outputs": []
    },
    {
      "cell_type": "code",
      "source": [
        "p1 = Person('abhishek','male')\n",
        "p2 = Person('chaman','male')\n",
        "p3 = Person('rani','female')"
      ],
      "metadata": {
        "id": "eSjSOaY4SeG-"
      },
      "execution_count": 10,
      "outputs": []
    },
    {
      "cell_type": "code",
      "source": [
        "p1.name"
      ],
      "metadata": {
        "colab": {
          "base_uri": "https://localhost:8080/",
          "height": 36
        },
        "id": "QwuVNPl-SsBs",
        "outputId": "bbaf2ced-2604-4c10-8761-d7966e149ef2"
      },
      "execution_count": 12,
      "outputs": [
        {
          "output_type": "execute_result",
          "data": {
            "text/plain": [
              "'abhishek'"
            ],
            "application/vnd.google.colaboratory.intrinsic+json": {
              "type": "string"
            }
          },
          "metadata": {},
          "execution_count": 12
        }
      ]
    },
    {
      "cell_type": "code",
      "source": [
        "l = [p1,p2,p3]  # you can put objects into a list and treat it according to the list"
      ],
      "metadata": {
        "id": "AX9tHwb8S67s"
      },
      "execution_count": 13,
      "outputs": []
    },
    {
      "cell_type": "code",
      "source": [
        "for i in l:                           # work also for dictionary\n",
        "  print(i.name,i.gender)"
      ],
      "metadata": {
        "colab": {
          "base_uri": "https://localhost:8080/"
        },
        "id": "XdQIGOYQTUqM",
        "outputId": "3e1a94a3-7768-4130-bfb6-87c4e2bb57d5"
      },
      "execution_count": 16,
      "outputs": [
        {
          "output_type": "stream",
          "name": "stdout",
          "text": [
            "abhishek male\n",
            "chaman male\n",
            "rani female\n"
          ]
        }
      ]
    },
    {
      "cell_type": "markdown",
      "source": [
        "# Static Variables"
      ],
      "metadata": {
        "id": "4BBNGzi3UCXS"
      }
    },
    {
      "cell_type": "code",
      "source": [
        "# need for static variable\n",
        "# static variable , Class ka variable hota h.\n",
        "# static variable for all the object  is same.\n",
        "\n",
        "# when ever you use static variable you use Class name.\n",
        "# And whern you use instance variabel you use Object name -> eg. self"
      ],
      "metadata": {
        "id": "1opdlKXPTWnU"
      },
      "execution_count": 17,
      "outputs": []
    },
    {
      "cell_type": "code",
      "source": [],
      "metadata": {
        "id": "FL78RlzBUSPn"
      },
      "execution_count": null,
      "outputs": []
    }
  ]
}