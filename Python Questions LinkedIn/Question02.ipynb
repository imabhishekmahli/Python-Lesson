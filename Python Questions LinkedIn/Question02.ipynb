{
 "cells": [
  {
   "attachments": {},
   "cell_type": "markdown",
   "metadata": {},
   "source": [
    "********DAY 2********\n",
    "Python coding question:\n",
    "LESSER OF TWO EVENS: Write a function that returns the lesser of two given numbers if both numbers are even, but returns the greater if one or both numbers are odd.\n",
    "Desired output:\n",
    "lesser_of_two_evens(2,4)---> 2\n",
    "lesser_of_two_evens(2,3)---> 3\n",
    "lesser_of_two_evens(3,4)---> 4"
   ]
  },
  {
   "cell_type": "markdown",
   "metadata": {},
   "source": []
  }
 ],
 "metadata": {
  "kernelspec": {
   "display_name": "Python 3",
   "language": "python",
   "name": "python3"
  },
  "language_info": {
   "name": "python",
   "version": "3.10.5 (tags/v3.10.5:f377153, Jun  6 2022, 16:14:13) [MSC v.1929 64 bit (AMD64)]"
  },
  "orig_nbformat": 4,
  "vscode": {
   "interpreter": {
    "hash": "d3cdff80d92283ff3eae3debf6d09750517e41bf310ff6601ffa229799c7594d"
   }
  }
 },
 "nbformat": 4,
 "nbformat_minor": 2
}
