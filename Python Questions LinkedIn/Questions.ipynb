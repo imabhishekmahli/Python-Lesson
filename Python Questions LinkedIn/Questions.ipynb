{
 "cells": [
  {
   "cell_type": "code",
   "execution_count": 1,
   "id": "858abfd5",
   "metadata": {},
   "outputs": [],
   "source": [
    "#Python coding question:\n",
    "#Given a list of integers, return True if the array contains a 3 next to a 3 somewhere.\n",
    "#Desired output:\n",
    "#has_33([1, 3, 3]) → True\n",
    "#has_33([1, 3, 1, 3]) → False\n",
    "#has_33([3, 1, 3]) → False\n",
    "#has_33([3,3,1]) → True"
   ]
  },
  {
   "cell_type": "code",
   "execution_count": 18,
   "id": "0f6b38a2",
   "metadata": {},
   "outputs": [],
   "source": [
    "def has__33(mylist):\n",
    "    for i in range(0,len(mylist)-1):\n",
    "        if mylist[i] == 3 and mylist[i+1] == 3:\n",
    "            return True\n",
    "        else:\n",
    "            return False\n",
    "\n",
    "obj = has__33([1,3,3])"
   ]
  },
  {
   "cell_type": "code",
   "execution_count": 19,
   "id": "1b4e7b59",
   "metadata": {},
   "outputs": [
    {
     "data": {
      "text/plain": [
       "False"
      ]
     },
     "execution_count": 19,
     "metadata": {},
     "output_type": "execute_result"
    }
   ],
   "source": [
    "obj"
   ]
  },
  {
   "cell_type": "markdown",
   "id": "adf18c15",
   "metadata": {},
   "source": [
    "Python coding question:\n",
    "LESSER OF TWO EVENS: Write a function that returns the lesser of two given numbers if both numbers are even, but returns the greater if one or both numbers are odd.\n",
    "Desired output:\n",
    "lesser_of_two_evens(2,4)---> 2\n",
    "lesser_of_two_evens(2,3)---> 3\n",
    "lesser_of_two_evens(3,4)---> 4"
   ]
  },
  {
   "cell_type": "code",
   "execution_count": 88,
   "id": "658df97c",
   "metadata": {},
   "outputs": [],
   "source": [
    "def lesser(x,y):\n",
    "    if (x%2==0 and y%2==0):\n",
    "        if x<y:\n",
    "            return x\n",
    "        else:\n",
    "            return y\n",
    "    else:\n",
    "        if x<y:\n",
    "            return y\n",
    "        else:\n",
    "            return x\n",
    "        "
   ]
  },
  {
   "cell_type": "code",
   "execution_count": 91,
   "id": "62b8fc8b",
   "metadata": {},
   "outputs": [
    {
     "data": {
      "text/plain": [
       "4"
      ]
     },
     "execution_count": 91,
     "metadata": {},
     "output_type": "execute_result"
    }
   ],
   "source": [
    "lesser(3,4)"
   ]
  },
  {
   "cell_type": "markdown",
   "id": "56dcadca",
   "metadata": {},
   "source": [
    "Python coding question:\n",
    "Write a Python function that takes a list and returns a new list with unique elements of the first list.\n",
    "Sample List : [1,1,1,1,2,2,3,3,3,3,4,5]\n",
    "Unique List : [1, 2, 3, 4, 5]"
   ]
  },
  {
   "cell_type": "code",
   "execution_count": 95,
   "id": "912caadd",
   "metadata": {},
   "outputs": [],
   "source": [
    "def unique_list(list):\n",
    "    x = [1,1,2,2,3,3,6]\n",
    "    for a in list:\n",
    "        if a not in x:\n",
    "            x.append(a)\n",
    "    return x"
   ]
  },
  {
   "cell_type": "code",
   "execution_count": null,
   "id": "ee7eb0e3",
   "metadata": {},
   "outputs": [],
   "source": []
  }
 ],
 "metadata": {
  "kernelspec": {
   "display_name": "Python 3",
   "language": "python",
   "name": "python3"
  },
  "language_info": {
   "codemirror_mode": {
    "name": "ipython",
    "version": 3
   },
   "file_extension": ".py",
   "mimetype": "text/x-python",
   "name": "python",
   "nbconvert_exporter": "python",
   "pygments_lexer": "ipython3",
   "version": "3.10.5 (tags/v3.10.5:f377153, Jun  6 2022, 16:14:13) [MSC v.1929 64 bit (AMD64)]"
  },
  "vscode": {
   "interpreter": {
    "hash": "d3cdff80d92283ff3eae3debf6d09750517e41bf310ff6601ffa229799c7594d"
   }
  }
 },
 "nbformat": 4,
 "nbformat_minor": 5
}
