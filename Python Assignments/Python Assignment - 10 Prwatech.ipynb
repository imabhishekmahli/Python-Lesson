{
 "cells": [
  {
   "cell_type": "markdown",
   "id": "cea5f518",
   "metadata": {},
   "source": [
    "## Dictionary"
   ]
  },
  {
   "cell_type": "code",
   "execution_count": 1,
   "id": "bd696d88",
   "metadata": {},
   "outputs": [
    {
     "name": "stdout",
     "output_type": "stream",
     "text": [
      "<class 'dict'>\n"
     ]
    }
   ],
   "source": [
    "dict_1={}\n",
    "print(type(dict_1))"
   ]
  },
  {
   "cell_type": "code",
   "execution_count": 2,
   "id": "8316a2de",
   "metadata": {},
   "outputs": [
    {
     "name": "stdout",
     "output_type": "stream",
     "text": [
      "<class 'set'>\n"
     ]
    }
   ],
   "source": [
    "## converting list into set\n",
    "lst=set([1,2,3])\n",
    "print(type(lst))"
   ]
  },
  {
   "cell_type": "code",
   "execution_count": 3,
   "id": "072602de",
   "metadata": {},
   "outputs": [
    {
     "name": "stdout",
     "output_type": "stream",
     "text": [
      "{1: 'a', 2: 'b', 3: {'d', 'c', 'e'}}\n"
     ]
    }
   ],
   "source": [
    "dict_2={1:'a',2:'b',3:{'c','d','e'}}\n",
    "print(dict_2)"
   ]
  },
  {
   "cell_type": "code",
   "execution_count": 17,
   "id": "2eff0ef0",
   "metadata": {},
   "outputs": [
    {
     "name": "stdout",
     "output_type": "stream",
     "text": [
      "{1: 'bb', 2: 'cc', 3: 'dd'}\n"
     ]
    }
   ],
   "source": [
    "# converting list into dictionary\n",
    "lst_1=[(1,'bb'),(2,'cc'),(3,'dd')]\n",
    "dict_3=dict(lst_1)\n",
    "print(dict_3)"
   ]
  },
  {
   "cell_type": "code",
   "execution_count": 18,
   "id": "d9f81559",
   "metadata": {},
   "outputs": [
    {
     "name": "stdout",
     "output_type": "stream",
     "text": [
      "{1: 'bb', 2: 'abhishek', 3: 'dd'}\n"
     ]
    }
   ],
   "source": [
    "# update the value\n",
    "dict_3[2]='abhishek'\n",
    "print(dict_3)"
   ]
  },
  {
   "cell_type": "code",
   "execution_count": 19,
   "id": "7cc492ad",
   "metadata": {},
   "outputs": [
    {
     "name": "stdout",
     "output_type": "stream",
     "text": [
      "dd\n"
     ]
    }
   ],
   "source": [
    "# fetch the values\n",
    "print(dict_3[3])"
   ]
  },
  {
   "cell_type": "code",
   "execution_count": 7,
   "id": "6e94723d",
   "metadata": {},
   "outputs": [
    {
     "name": "stdout",
     "output_type": "stream",
     "text": [
      "{1: 'bb', 2: 'abhishek', 3: 'dd', 4: ['kumar', 'mahli', 63]}\n"
     ]
    }
   ],
   "source": [
    "## add or modify\n",
    "dict_3[4]=['kumar','mahli',63]\n",
    "print(dict_3)"
   ]
  },
  {
   "cell_type": "code",
   "execution_count": 13,
   "id": "76bd3821",
   "metadata": {},
   "outputs": [
    {
     "name": "stdout",
     "output_type": "stream",
     "text": [
      "bb\n"
     ]
    }
   ],
   "source": [
    "# delete or remove\n",
    "#a=dict_3.pop(1)\n",
    "print(a)\n",
    "#print(dict_3)"
   ]
  },
  {
   "cell_type": "code",
   "execution_count": 20,
   "id": "4cc4734a",
   "metadata": {},
   "outputs": [
    {
     "name": "stdout",
     "output_type": "stream",
     "text": [
      "{1: 'bb', 2: 'abhishek'}\n"
     ]
    }
   ],
   "source": [
    "dict_3.popitem()  ## pop the very last element\n",
    "print(dict_3)"
   ]
  },
  {
   "cell_type": "code",
   "execution_count": 29,
   "id": "b43e8171",
   "metadata": {},
   "outputs": [
    {
     "name": "stdout",
     "output_type": "stream",
     "text": [
      "{1: 5, 2: 10, 3: 15, 4: 20}\n",
      "{1: 5, 3: 15, 4: 20}\n"
     ]
    }
   ],
   "source": [
    "## delete\n",
    "dict_4={1:5,2:10,3:15,4:20}\n",
    "print(dict_4)\n",
    "del dict_4[2]\n",
    "print(dict_4)"
   ]
  },
  {
   "cell_type": "code",
   "execution_count": 27,
   "id": "e334e4fc",
   "metadata": {},
   "outputs": [
    {
     "name": "stdout",
     "output_type": "stream",
     "text": [
      "{1: 5, 3: 15, 4: 20}\n",
      "{}\n"
     ]
    }
   ],
   "source": [
    "## clear\n",
    "print(dict_4)\n",
    "dict_4.clear()\n",
    "print(dict_4)"
   ]
  },
  {
   "cell_type": "code",
   "execution_count": 32,
   "id": "a251aa4a",
   "metadata": {},
   "outputs": [
    {
     "name": "stdout",
     "output_type": "stream",
     "text": [
      "{1: 5, 3: 15, 4: 20}\n"
     ]
    }
   ],
   "source": [
    "## copy\n",
    "#dict_4\n",
    "dict_5=dict_4.copy()\n",
    "print(dict_5)"
   ]
  },
  {
   "cell_type": "code",
   "execution_count": 33,
   "id": "f0680f5a",
   "metadata": {},
   "outputs": [
    {
     "name": "stdout",
     "output_type": "stream",
     "text": [
      "{'abhishek': '10', 'kumar': '10', 'mahli': '10'}\n"
     ]
    }
   ],
   "source": [
    "## dict.fromkeys  # for every key you will get one value\n",
    "fromkey_1=dict.fromkeys(['abhishek','kumar','mahli'],'10')\n",
    "print(fromkey_1)"
   ]
  },
  {
   "cell_type": "code",
   "execution_count": 34,
   "id": "bcb4e5bc",
   "metadata": {},
   "outputs": [
    {
     "name": "stdout",
     "output_type": "stream",
     "text": [
      "dict_items([('abhishek', '10'), ('kumar', '10'), ('mahli', '10')])\n"
     ]
    }
   ],
   "source": [
    "# print only items\n",
    "print(fromkey_1.items())"
   ]
  },
  {
   "cell_type": "code",
   "execution_count": 35,
   "id": "60a81777",
   "metadata": {},
   "outputs": [
    {
     "name": "stdout",
     "output_type": "stream",
     "text": [
      "dict_keys(['abhishek', 'kumar', 'mahli'])\n"
     ]
    }
   ],
   "source": [
    "# print only keys\n",
    "print(fromkey_1.keys())"
   ]
  },
  {
   "cell_type": "code",
   "execution_count": 37,
   "id": "8eb8c0b6",
   "metadata": {},
   "outputs": [
    {
     "name": "stdout",
     "output_type": "stream",
     "text": [
      "dict_values(['10', '10', '10'])\n"
     ]
    }
   ],
   "source": [
    "## print only values\n",
    "print(fromkey_1.values())"
   ]
  },
  {
   "cell_type": "code",
   "execution_count": 39,
   "id": "3909f1e9",
   "metadata": {},
   "outputs": [
    {
     "name": "stdout",
     "output_type": "stream",
     "text": [
      "['__class__', '__class_getitem__', '__contains__', '__delattr__', '__delitem__', '__dir__', '__doc__', '__eq__', '__format__', '__ge__', '__getattribute__', '__getitem__', '__gt__', '__hash__', '__init__', '__init_subclass__', '__ior__', '__iter__', '__le__', '__len__', '__lt__', '__ne__', '__new__', '__or__', '__reduce__', '__reduce_ex__', '__repr__', '__reversed__', '__ror__', '__setattr__', '__setitem__', '__sizeof__', '__str__', '__subclasshook__', 'clear', 'copy', 'fromkeys', 'get', 'items', 'keys', 'pop', 'popitem', 'setdefault', 'update', 'values']\n"
     ]
    }
   ],
   "source": [
    "## it will give details of all operations\n",
    "print(dir(fromkey_1))"
   ]
  },
  {
   "cell_type": "markdown",
   "id": "db26ebb3",
   "metadata": {},
   "source": [
    "## Dictionary Operation"
   ]
  },
  {
   "cell_type": "code",
   "execution_count": 42,
   "id": "355db977",
   "metadata": {},
   "outputs": [
    {
     "name": "stdout",
     "output_type": "stream",
     "text": [
      "2 abhishek\n",
      "4 kumar\n",
      "6 mahli\n",
      "no data available\n"
     ]
    }
   ],
   "source": [
    "dict_op={2:'abhishek',4:'kumar',6:'mahli'}\n",
    "for i,j in dict_op.items():\n",
    "    print(i,j)\n",
    "\n",
    "print(\"no data available\")"
   ]
  },
  {
   "cell_type": "code",
   "execution_count": 46,
   "id": "590e5a8d",
   "metadata": {},
   "outputs": [
    {
     "name": "stdout",
     "output_type": "stream",
     "text": [
      "{5: 'kumar22', 7: 'mahli22'}\n"
     ]
    }
   ],
   "source": [
    "dict_op_1={k+1:v+'22' for k,v in dict_op.items() if k>3}\n",
    "print(dict_op_1)"
   ]
  },
  {
   "cell_type": "code",
   "execution_count": null,
   "id": "ee163d2a",
   "metadata": {},
   "outputs": [],
   "source": []
  },
  {
   "cell_type": "code",
   "execution_count": null,
   "id": "7bad11f3",
   "metadata": {},
   "outputs": [],
   "source": []
  }
 ],
 "metadata": {
  "kernelspec": {
   "display_name": "Python 3 (ipykernel)",
   "language": "python",
   "name": "python3"
  },
  "language_info": {
   "codemirror_mode": {
    "name": "ipython",
    "version": 3
   },
   "file_extension": ".py",
   "mimetype": "text/x-python",
   "name": "python",
   "nbconvert_exporter": "python",
   "pygments_lexer": "ipython3",
   "version": "3.9.12"
  }
 },
 "nbformat": 4,
 "nbformat_minor": 5
}
