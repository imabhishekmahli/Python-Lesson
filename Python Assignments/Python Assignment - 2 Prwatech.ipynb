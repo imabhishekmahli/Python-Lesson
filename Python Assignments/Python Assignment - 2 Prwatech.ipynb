{
 "cells": [
  {
   "cell_type": "markdown",
   "id": "5b62524f",
   "metadata": {},
   "source": [
    "## 1. LIST"
   ]
  },
  {
   "cell_type": "markdown",
   "id": "55942794",
   "metadata": {},
   "source": [
    "##### INDEX , NON HOMOGENEOUS , MUTABLE , DUBLICACY"
   ]
  },
  {
   "cell_type": "code",
   "execution_count": 14,
   "id": "cebb2da6",
   "metadata": {},
   "outputs": [],
   "source": [
    "list_1=[1,2,3,'abhishek','mahli','kumar',7985521649,'abhi@gmal.com','123abhi456','*&^()$#@','abhishek']"
   ]
  },
  {
   "cell_type": "code",
   "execution_count": 15,
   "id": "e8f98a55",
   "metadata": {},
   "outputs": [
    {
     "name": "stdout",
     "output_type": "stream",
     "text": [
      "[1, 2, 3, 'abhishek', 'mahli', 'kumar', 7985521649, 'abhi@gmal.com', '123abhi456', '*&^()$#@', 'abhishek']\n",
      "1813516478528\n",
      "<class 'list'>\n"
     ]
    }
   ],
   "source": [
    "print(list_1)\n",
    "print(id(list_1))\n",
    "print(type(list_1))"
   ]
  },
  {
   "cell_type": "markdown",
   "id": "c81f3740",
   "metadata": {},
   "source": [
    "### 1.1 List Indexing"
   ]
  },
  {
   "cell_type": "code",
   "execution_count": 16,
   "id": "85290c89",
   "metadata": {},
   "outputs": [
    {
     "name": "stdout",
     "output_type": "stream",
     "text": [
      "abhishek\n"
     ]
    }
   ],
   "source": [
    "print(list_1[3])"
   ]
  },
  {
   "cell_type": "code",
   "execution_count": 8,
   "id": "08098a9a",
   "metadata": {},
   "outputs": [
    {
     "name": "stdout",
     "output_type": "stream",
     "text": [
      "['abhishek', 'mahli']\n"
     ]
    }
   ],
   "source": [
    "print(list_1[3:5])"
   ]
  },
  {
   "cell_type": "markdown",
   "id": "a755d5ce",
   "metadata": {},
   "source": [
    "### 1.2 List NON-Homogeneous"
   ]
  },
  {
   "cell_type": "code",
   "execution_count": 17,
   "id": "9a5eb6e4",
   "metadata": {},
   "outputs": [
    {
     "name": "stdout",
     "output_type": "stream",
     "text": [
      "[1, 2, 3, 'abhishek', 'mahli', 'kumar', 7985521649, 'abhi@gmal.com', '123abhi456', '*&^()$#@', 'abhishek']\n"
     ]
    }
   ],
   "source": [
    "print(list_1)"
   ]
  },
  {
   "cell_type": "markdown",
   "id": "3b679694",
   "metadata": {},
   "source": [
    "### 1.3 List Mutable"
   ]
  },
  {
   "cell_type": "code",
   "execution_count": 11,
   "id": "ed068361",
   "metadata": {},
   "outputs": [],
   "source": [
    "list_1[1]=55"
   ]
  },
  {
   "cell_type": "code",
   "execution_count": 18,
   "id": "1f913230",
   "metadata": {},
   "outputs": [
    {
     "name": "stdout",
     "output_type": "stream",
     "text": [
      "[1, 2, 3, 'abhishek', 'mahli', 'kumar', 7985521649, 'abhi@gmal.com', '123abhi456', '*&^()$#@', 'abhishek']\n"
     ]
    }
   ],
   "source": [
    "print(list_1)"
   ]
  },
  {
   "cell_type": "markdown",
   "id": "3807b7b8",
   "metadata": {},
   "source": [
    "### 1.4 List Dublicacy"
   ]
  },
  {
   "cell_type": "code",
   "execution_count": 25,
   "id": "6ba19c74",
   "metadata": {},
   "outputs": [
    {
     "name": "stdout",
     "output_type": "stream",
     "text": [
      "abhishek\n",
      "abhishek\n"
     ]
    }
   ],
   "source": [
    "print(list_1[3])\n",
    "print(list_1[10])"
   ]
  },
  {
   "cell_type": "markdown",
   "id": "7d36705b",
   "metadata": {},
   "source": [
    "## 2.TUPLE "
   ]
  },
  {
   "cell_type": "markdown",
   "id": "b77ded21",
   "metadata": {},
   "source": [
    "##### INDEX , IMMUTABLE , DUBLICACY , NON HOMOGENEOUS"
   ]
  },
  {
   "cell_type": "code",
   "execution_count": 35,
   "id": "dd481289",
   "metadata": {},
   "outputs": [],
   "source": [
    "TUP=(5,4,6,\"ABHISHEK\",\"KUMAR\",\"MAHLI\",\"ABHI@GMAIL.CON\",\"@#$%^&*()\",\"asd456qwe\",\"ABHISHEK\")"
   ]
  },
  {
   "cell_type": "code",
   "execution_count": 36,
   "id": "8828fb17",
   "metadata": {},
   "outputs": [
    {
     "name": "stdout",
     "output_type": "stream",
     "text": [
      "(5, 4, 6, 'ABHISHEK', 'KUMAR', 'MAHLI', 'ABHI@GMAIL.CON', '@#$%^&*()', 'asd456qwe', 'ABHISHEK')\n",
      "1813487385920\n",
      "<class 'tuple'>\n"
     ]
    }
   ],
   "source": [
    "print(TUP)\n",
    "print(id(TUP))\n",
    "print(type(TUP))"
   ]
  },
  {
   "cell_type": "markdown",
   "id": "15ba71d2",
   "metadata": {},
   "source": [
    "### 2.1 TUPLE INDEXING"
   ]
  },
  {
   "cell_type": "code",
   "execution_count": 30,
   "id": "2ba5bc78",
   "metadata": {},
   "outputs": [
    {
     "name": "stdout",
     "output_type": "stream",
     "text": [
      "MAHLI\n"
     ]
    }
   ],
   "source": [
    "print(TUP[5])"
   ]
  },
  {
   "cell_type": "code",
   "execution_count": 31,
   "id": "1d34c99c",
   "metadata": {},
   "outputs": [
    {
     "name": "stdout",
     "output_type": "stream",
     "text": [
      "('MAHLI', 'ABHI@GMAIL.CON')\n"
     ]
    }
   ],
   "source": [
    "print(TUP[5:7])"
   ]
  },
  {
   "cell_type": "markdown",
   "id": "351708ed",
   "metadata": {},
   "source": [
    "### 2.2 TUPLE IS IMMUTABLE"
   ]
  },
  {
   "cell_type": "code",
   "execution_count": 32,
   "id": "14a14572",
   "metadata": {},
   "outputs": [
    {
     "ename": "TypeError",
     "evalue": "'tuple' object does not support item assignment",
     "output_type": "error",
     "traceback": [
      "\u001b[1;31m---------------------------------------------------------------------------\u001b[0m",
      "\u001b[1;31mTypeError\u001b[0m                                 Traceback (most recent call last)",
      "Input \u001b[1;32mIn [32]\u001b[0m, in \u001b[0;36m<cell line: 1>\u001b[1;34m()\u001b[0m\n\u001b[1;32m----> 1\u001b[0m TUP[\u001b[38;5;241m5\u001b[39m]\u001b[38;5;241m=\u001b[39m\u001b[38;5;124m\"\u001b[39m\u001b[38;5;124mROHAN\u001b[39m\u001b[38;5;124m\"\u001b[39m\n",
      "\u001b[1;31mTypeError\u001b[0m: 'tuple' object does not support item assignment"
     ]
    }
   ],
   "source": [
    "TUP[5]=\"ROHAN\""
   ]
  },
  {
   "cell_type": "markdown",
   "id": "b8c9a61a",
   "metadata": {},
   "source": [
    "### 2.3 TUPLE DUBLICACY"
   ]
  },
  {
   "cell_type": "code",
   "execution_count": 37,
   "id": "c7c62ae7",
   "metadata": {},
   "outputs": [
    {
     "name": "stdout",
     "output_type": "stream",
     "text": [
      "ABHISHEK\n",
      "ABHISHEK\n"
     ]
    }
   ],
   "source": [
    "print(TUP[3])\n",
    "print(TUP[9])"
   ]
  },
  {
   "cell_type": "markdown",
   "id": "5b29820a",
   "metadata": {},
   "source": [
    "### 2.4 TUPLE NON HOMOGENEOUS"
   ]
  },
  {
   "cell_type": "code",
   "execution_count": 40,
   "id": "f25e106d",
   "metadata": {},
   "outputs": [
    {
     "name": "stdout",
     "output_type": "stream",
     "text": [
      "(5, 4, 6, 'ABHISHEK', 'KUMAR', 'MAHLI', 'ABHI@GMAIL.CON', '@#$%^&*()', 'asd456qwe', 'ABHISHEK')\n"
     ]
    }
   ],
   "source": [
    "print(TUP)"
   ]
  },
  {
   "cell_type": "markdown",
   "id": "867ba84a",
   "metadata": {},
   "source": [
    "## 3. DICTIONARY"
   ]
  },
  {
   "cell_type": "markdown",
   "id": "0179673e",
   "metadata": {},
   "source": [
    "##### NON INDEX , NON HOMOGENEOUS , NON DUBLICACY , MUTABLE"
   ]
  },
  {
   "cell_type": "code",
   "execution_count": 59,
   "id": "580c0af1",
   "metadata": {},
   "outputs": [],
   "source": [
    "dicti={'1':'abhishek','2':'kumar','3':'rohan','asd':'3'}"
   ]
  },
  {
   "cell_type": "code",
   "execution_count": 60,
   "id": "3be6e7d3",
   "metadata": {},
   "outputs": [
    {
     "name": "stdout",
     "output_type": "stream",
     "text": [
      "{'1': 'abhishek', '2': 'kumar', '3': 'rohan', 'asd': '3'}\n",
      "1813516830208\n",
      "<class 'dict'>\n"
     ]
    }
   ],
   "source": [
    "print(dicti)\n",
    "print(id(dicti))\n",
    "print(type(dicti))"
   ]
  },
  {
   "cell_type": "markdown",
   "id": "c397e4f1",
   "metadata": {},
   "source": [
    "### 3.1 NON INDEX \"KEY\""
   ]
  },
  {
   "cell_type": "code",
   "execution_count": 61,
   "id": "51ef77f4",
   "metadata": {},
   "outputs": [
    {
     "data": {
      "text/plain": [
       "'abhishek'"
      ]
     },
     "execution_count": 61,
     "metadata": {},
     "output_type": "execute_result"
    }
   ],
   "source": [
    "dicti['1']"
   ]
  },
  {
   "cell_type": "markdown",
   "id": "b92ac536",
   "metadata": {},
   "source": [
    "### 3.2 NON HOMOGENEOUS"
   ]
  },
  {
   "cell_type": "code",
   "execution_count": 62,
   "id": "bc9342d5",
   "metadata": {},
   "outputs": [
    {
     "name": "stdout",
     "output_type": "stream",
     "text": [
      "{'1': 'abhishek', '2': 'kumar', '3': 'rohan', 'asd': '3'}\n"
     ]
    }
   ],
   "source": [
    "print(dicti)"
   ]
  },
  {
   "cell_type": "markdown",
   "id": "611d8fa8",
   "metadata": {},
   "source": [
    "### 3.3 MUTABLE ONLY IN VALUES NOT IN KEY"
   ]
  },
  {
   "cell_type": "code",
   "execution_count": 63,
   "id": "622e9a9b",
   "metadata": {},
   "outputs": [],
   "source": [
    "dicti['2']='mahli'"
   ]
  },
  {
   "cell_type": "code",
   "execution_count": 54,
   "id": "ebd746f0",
   "metadata": {},
   "outputs": [
    {
     "name": "stdout",
     "output_type": "stream",
     "text": [
      "{'1': 'abhishek', '2': 'mahli', '3': 'rohan', 'asd': '3'}\n"
     ]
    }
   ],
   "source": [
    "print(dicti)"
   ]
  },
  {
   "cell_type": "markdown",
   "id": "5fc84a09",
   "metadata": {},
   "source": [
    "### 3.4 ADDING NEW VALUES INTO DICTIONARY"
   ]
  },
  {
   "cell_type": "code",
   "execution_count": 64,
   "id": "c6b608db",
   "metadata": {},
   "outputs": [],
   "source": [
    "dicti['4']='harshal'"
   ]
  },
  {
   "cell_type": "code",
   "execution_count": 65,
   "id": "cf94bca3",
   "metadata": {},
   "outputs": [
    {
     "name": "stdout",
     "output_type": "stream",
     "text": [
      "{'1': 'abhishek', '2': 'mahli', '3': 'rohan', 'asd': '3', '4': 'harshal'}\n"
     ]
    }
   ],
   "source": [
    "print(dicti)"
   ]
  },
  {
   "cell_type": "markdown",
   "id": "1a613fe3",
   "metadata": {},
   "source": [
    "## 4. SET"
   ]
  },
  {
   "cell_type": "markdown",
   "id": "9c8af4e1",
   "metadata": {},
   "source": [
    "## non homogeneous , immutable , sorted , no duplicacy , no index"
   ]
  },
  {
   "cell_type": "code",
   "execution_count": 71,
   "id": "0ed0087e",
   "metadata": {},
   "outputs": [],
   "source": [
    "A={7,5,4,9,1,0,0,0,0,0,3,'ABHISHEK','KUAMR','MAHLI'}"
   ]
  },
  {
   "cell_type": "code",
   "execution_count": 72,
   "id": "64986d61",
   "metadata": {},
   "outputs": [
    {
     "name": "stdout",
     "output_type": "stream",
     "text": [
      "{0, 1, 3, 4, 5, 7, 9, 'MAHLI', 'KUAMR', 'ABHISHEK'}\n",
      "1813517164096\n",
      "<class 'set'>\n"
     ]
    }
   ],
   "source": [
    "print(A)\n",
    "print(id(A))\n",
    "print(type(A))"
   ]
  },
  {
   "cell_type": "markdown",
   "id": "f74c4d7d",
   "metadata": {},
   "source": [
    "### 4.1 NON HOMOGENEOUS"
   ]
  },
  {
   "cell_type": "code",
   "execution_count": 73,
   "id": "01f65b09",
   "metadata": {},
   "outputs": [
    {
     "name": "stdout",
     "output_type": "stream",
     "text": [
      "{0, 1, 3, 4, 5, 7, 9, 'MAHLI', 'KUAMR', 'ABHISHEK'}\n"
     ]
    }
   ],
   "source": [
    "print(A)"
   ]
  },
  {
   "cell_type": "markdown",
   "id": "e98f9848",
   "metadata": {},
   "source": [
    "### 4.2 SORTED"
   ]
  },
  {
   "cell_type": "code",
   "execution_count": 74,
   "id": "b87f3498",
   "metadata": {},
   "outputs": [
    {
     "name": "stdout",
     "output_type": "stream",
     "text": [
      "{0, 1, 3, 4, 5, 7, 9, 'MAHLI', 'KUAMR', 'ABHISHEK'}\n"
     ]
    }
   ],
   "source": [
    "print(A)"
   ]
  },
  {
   "cell_type": "markdown",
   "id": "6772dbfa",
   "metadata": {},
   "source": [
    "### 4.3 NO DUBLICACY"
   ]
  },
  {
   "cell_type": "code",
   "execution_count": 75,
   "id": "e53af066",
   "metadata": {},
   "outputs": [
    {
     "name": "stdout",
     "output_type": "stream",
     "text": [
      "{0, 1, 3, 4, 5, 7, 9, 'MAHLI', 'KUAMR', 'ABHISHEK'}\n"
     ]
    }
   ],
   "source": [
    "print(A)"
   ]
  },
  {
   "cell_type": "markdown",
   "id": "8befc461",
   "metadata": {},
   "source": [
    "### NO INDEXING"
   ]
  },
  {
   "cell_type": "code",
   "execution_count": 76,
   "id": "5df1dd79",
   "metadata": {},
   "outputs": [
    {
     "ename": "TypeError",
     "evalue": "'set' object is not subscriptable",
     "output_type": "error",
     "traceback": [
      "\u001b[1;31m---------------------------------------------------------------------------\u001b[0m",
      "\u001b[1;31mTypeError\u001b[0m                                 Traceback (most recent call last)",
      "Input \u001b[1;32mIn [76]\u001b[0m, in \u001b[0;36m<cell line: 1>\u001b[1;34m()\u001b[0m\n\u001b[1;32m----> 1\u001b[0m \u001b[43mA\u001b[49m\u001b[43m[\u001b[49m\u001b[38;5;241;43m2\u001b[39;49m\u001b[43m]\u001b[49m\n",
      "\u001b[1;31mTypeError\u001b[0m: 'set' object is not subscriptable"
     ]
    }
   ],
   "source": [
    "A[2]"
   ]
  },
  {
   "cell_type": "code",
   "execution_count": null,
   "id": "ba9c950a",
   "metadata": {},
   "outputs": [],
   "source": []
  }
 ],
 "metadata": {
  "kernelspec": {
   "display_name": "Python 3 (ipykernel)",
   "language": "python",
   "name": "python3"
  },
  "language_info": {
   "codemirror_mode": {
    "name": "ipython",
    "version": 3
   },
   "file_extension": ".py",
   "mimetype": "text/x-python",
   "name": "python",
   "nbconvert_exporter": "python",
   "pygments_lexer": "ipython3",
   "version": "3.9.12"
  }
 },
 "nbformat": 4,
 "nbformat_minor": 5
}
