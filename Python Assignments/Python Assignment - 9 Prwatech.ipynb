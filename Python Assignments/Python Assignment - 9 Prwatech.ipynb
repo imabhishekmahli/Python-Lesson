{
 "cells": [
  {
   "cell_type": "markdown",
   "id": "09347784",
   "metadata": {},
   "source": [
    "# SET"
   ]
  },
  {
   "cell_type": "code",
   "execution_count": 30,
   "id": "3b6ee24e",
   "metadata": {},
   "outputs": [
    {
     "name": "stdout",
     "output_type": "stream",
     "text": [
      "{1, 2, 3, 4, 5, 6, 7}\n",
      "[1, 2, 3, 4, 5, 6, 7]\n",
      "<class 'set'>\n",
      "<class 'list'>\n"
     ]
    }
   ],
   "source": [
    "set_1={1,2,3,6,7,4,5,6}\n",
    "print(set_1)\n",
    "set_2=list(lst)\n",
    "print(set_2)\n",
    "\n",
    "print(type(set_1))\n",
    "print(type(set_2))"
   ]
  },
  {
   "cell_type": "code",
   "execution_count": 31,
   "id": "0ab058be",
   "metadata": {},
   "outputs": [
    {
     "name": "stdout",
     "output_type": "stream",
     "text": [
      "{1, 2, 3, 4, 5, 6}\n"
     ]
    }
   ],
   "source": [
    "## set does not hold duplicate record\n",
    "sett_1={1,1,2,2,3,3,4,4,5,5,6,6}\n",
    "print(sett_1)"
   ]
  },
  {
   "cell_type": "code",
   "execution_count": 32,
   "id": "182f5dc2",
   "metadata": {},
   "outputs": [
    {
     "name": "stdout",
     "output_type": "stream",
     "text": [
      "<class 'set'>\n"
     ]
    }
   ],
   "source": [
    "# create set from list\n",
    "sett_2=set()\n",
    "print(type(sett_2))"
   ]
  },
  {
   "cell_type": "code",
   "execution_count": 33,
   "id": "a4f15a53",
   "metadata": {},
   "outputs": [
    {
     "name": "stdout",
     "output_type": "stream",
     "text": [
      "{1, 2, 3, 4, 5}\n",
      "{1, 2, 3, 'abhishek', 5}\n"
     ]
    }
   ],
   "source": [
    "## add a value in set\n",
    "set_3={1,2,3,4}\n",
    "set_3.add(5)\n",
    "print(set_3)\n",
    "\n",
    "set_4={1,2}\n",
    "set_4.update([2,3,5,'abhishek'])\n",
    "print(set_4)"
   ]
  },
  {
   "cell_type": "code",
   "execution_count": 34,
   "id": "e7126d04",
   "metadata": {},
   "outputs": [
    {
     "name": "stdout",
     "output_type": "stream",
     "text": [
      "{1, 2, 3, 4, 5, 6, 7, 8}\n",
      "8\n"
     ]
    }
   ],
   "source": [
    "set_5={1,2,3,4}\n",
    "set_5.update([5,6],(7,8))\n",
    "print(set_5)\n",
    "print(len(set_5))"
   ]
  },
  {
   "cell_type": "code",
   "execution_count": 35,
   "id": "2c7897c5",
   "metadata": {},
   "outputs": [
    {
     "name": "stdout",
     "output_type": "stream",
     "text": [
      "{1, 2, 3, 4, 6, 7, 8}\n"
     ]
    }
   ],
   "source": [
    "## remove an element\n",
    "#lst_5.remove(3)\n",
    "set_5.discard(5)\n",
    "print(set_5)"
   ]
  },
  {
   "cell_type": "code",
   "execution_count": 36,
   "id": "0ba71635",
   "metadata": {},
   "outputs": [
    {
     "name": "stdout",
     "output_type": "stream",
     "text": [
      "1\n"
     ]
    }
   ],
   "source": [
    "## pop \n",
    "## it will store\n",
    "## and delete the random value from set \n",
    "\n",
    "set_6={5,4,6,3,2,1}\n",
    "a=set_6.pop()\n",
    "print(a)"
   ]
  },
  {
   "cell_type": "code",
   "execution_count": 37,
   "id": "76fabb5b",
   "metadata": {},
   "outputs": [
    {
     "name": "stdout",
     "output_type": "stream",
     "text": [
      "set()\n"
     ]
    }
   ],
   "source": [
    "## clear\n",
    "# it will remove all the elements from the set\n",
    "set_7={5,4,1,2,3,6}\n",
    "set_7.clear()\n",
    "print(set_7)"
   ]
  },
  {
   "cell_type": "code",
   "execution_count": 38,
   "id": "585746f8",
   "metadata": {},
   "outputs": [
    {
     "name": "stdout",
     "output_type": "stream",
     "text": [
      "{1, 2, 3, 4, 5, 6, 7, 8, 9}\n",
      "{1, 2, 3, 4, 5, 6, 7, 8, 9}\n",
      "{1, 4}\n",
      "{1, 4}\n",
      "{2, 3, 5, 6}\n",
      "{2, 3, 5, 6}\n"
     ]
    }
   ],
   "source": [
    "set_8={4,5,6,1,2,3}\n",
    "set_9={7,8,9,7,4,1}\n",
    "print(set_8 | set_9)  # union function\n",
    "print(set_8.union(set_9)) #union alternate command\n",
    "print(set_8 & set_9) #intersection\n",
    "print(set_8.intersection(set_9))\n",
    "print(set_8 - set_9) # it will give value which is availabe in set 1, but not in set 2\n",
    "print(set_8.difference(set_9))"
   ]
  },
  {
   "cell_type": "code",
   "execution_count": 39,
   "id": "be3c9f37",
   "metadata": {},
   "outputs": [
    {
     "name": "stdout",
     "output_type": "stream",
     "text": [
      "{2, 3, 5, 6, 7, 8, 9}\n",
      "{2, 3, 5, 6, 7, 8, 9}\n"
     ]
    }
   ],
   "source": [
    "#summetric operation\n",
    "# use ^ this operation\n",
    "print(set_8 ^ set_9) # which is not common in both set\n",
    "print(set_8.symmetric_difference(set_9))"
   ]
  },
  {
   "cell_type": "code",
   "execution_count": 40,
   "id": "02599468",
   "metadata": {},
   "outputs": [
    {
     "name": "stdout",
     "output_type": "stream",
     "text": [
      "False\n",
      "False\n"
     ]
    }
   ],
   "source": [
    "# issubset , issuperset\n",
    "print(set_8.issubset(set_9))\n",
    "print(set_8.issuperset(set_9))"
   ]
  },
  {
   "cell_type": "code",
   "execution_count": 41,
   "id": "4f51597c",
   "metadata": {},
   "outputs": [
    {
     "name": "stdout",
     "output_type": "stream",
     "text": [
      "<class 'frozenset'>\n",
      "<class 'frozenset'>\n"
     ]
    }
   ],
   "source": [
    "# frozen set\n",
    "set_10=frozenset({4,5,3,1,4,5,2,1})\n",
    "set_11=frozenset([4,1,2,3,6,9,75])\n",
    "print(type(set_10))\n",
    "print(type(set_11))\n",
    "\n",
    "#set_10.add(5)  # can't add value"
   ]
  },
  {
   "cell_type": "code",
   "execution_count": null,
   "id": "1946ff20",
   "metadata": {},
   "outputs": [],
   "source": []
  }
 ],
 "metadata": {
  "kernelspec": {
   "display_name": "Python 3 (ipykernel)",
   "language": "python",
   "name": "python3"
  },
  "language_info": {
   "codemirror_mode": {
    "name": "ipython",
    "version": 3
   },
   "file_extension": ".py",
   "mimetype": "text/x-python",
   "name": "python",
   "nbconvert_exporter": "python",
   "pygments_lexer": "ipython3",
   "version": "3.9.12"
  }
 },
 "nbformat": 4,
 "nbformat_minor": 5
}
