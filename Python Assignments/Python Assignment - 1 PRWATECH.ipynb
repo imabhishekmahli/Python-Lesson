{
 "cells": [
  {
   "cell_type": "markdown",
   "id": "1777aa45",
   "metadata": {},
   "source": [
    "## PYTHON IS A PROGRAMMING LANGUAGE"
   ]
  },
  {
   "cell_type": "code",
   "execution_count": 1,
   "id": "fb602a85",
   "metadata": {},
   "outputs": [],
   "source": [
    "# variable assigned\n",
    "A=10\n",
    "B=15"
   ]
  },
  {
   "cell_type": "code",
   "execution_count": 2,
   "id": "86b4575d",
   "metadata": {},
   "outputs": [
    {
     "name": "stdout",
     "output_type": "stream",
     "text": [
      "25\n",
      "150\n",
      "-5\n",
      "0.6666666666666666\n"
     ]
    }
   ],
   "source": [
    "## Basic operations in python\n",
    "print(A+B)  \n",
    "print(A*B)\n",
    "print(A-B)\n",
    "print(A/B)"
   ]
  },
  {
   "cell_type": "markdown",
   "id": "58e49b56",
   "metadata": {},
   "source": [
    "------datatype ------"
   ]
  },
  {
   "cell_type": "code",
   "execution_count": 3,
   "id": "42a93054",
   "metadata": {},
   "outputs": [
    {
     "data": {
      "text/plain": [
       "int"
      ]
     },
     "execution_count": 3,
     "metadata": {},
     "output_type": "execute_result"
    }
   ],
   "source": [
    "## datatype\n",
    "type(A)"
   ]
  },
  {
   "cell_type": "markdown",
   "id": "57755033",
   "metadata": {},
   "source": [
    "------address-------"
   ]
  },
  {
   "cell_type": "code",
   "execution_count": 4,
   "id": "5dcad80c",
   "metadata": {},
   "outputs": [
    {
     "data": {
      "text/plain": [
       "2191852989008"
      ]
     },
     "execution_count": 4,
     "metadata": {},
     "output_type": "execute_result"
    }
   ],
   "source": [
    "## id assigned\n",
    "id(A)"
   ]
  },
  {
   "cell_type": "code",
   "execution_count": 7,
   "id": "578bb292",
   "metadata": {},
   "outputs": [],
   "source": [
    "x=10\n",
    "y=50\n",
    "z=10"
   ]
  },
  {
   "cell_type": "code",
   "execution_count": 9,
   "id": "edd5f323",
   "metadata": {},
   "outputs": [
    {
     "name": "stdout",
     "output_type": "stream",
     "text": [
      "1508148734544\n",
      "1508148735824\n",
      "1508148734544\n"
     ]
    }
   ],
   "source": [
    "print(id(x))\n",
    "print(id(y))\n",
    "print(id(z))"
   ]
  },
  {
   "cell_type": "code",
   "execution_count": 10,
   "id": "c40d1044",
   "metadata": {},
   "outputs": [
    {
     "data": {
      "text/plain": [
       "str"
      ]
     },
     "execution_count": 10,
     "metadata": {},
     "output_type": "execute_result"
    }
   ],
   "source": [
    "rr='abhishek'\n",
    "type(rr)"
   ]
  },
  {
   "cell_type": "code",
   "execution_count": 11,
   "id": "3a27dbdd",
   "metadata": {},
   "outputs": [
    {
     "ename": "ValueError",
     "evalue": "invalid literal for int() with base 10: 'abhishek'",
     "output_type": "error",
     "traceback": [
      "\u001b[1;31m---------------------------------------------------------------------------\u001b[0m",
      "\u001b[1;31mValueError\u001b[0m                                Traceback (most recent call last)",
      "Input \u001b[1;32mIn [11]\u001b[0m, in \u001b[0;36m<cell line: 1>\u001b[1;34m()\u001b[0m\n\u001b[1;32m----> 1\u001b[0m r\u001b[38;5;241m=\u001b[39m\u001b[38;5;28;43mint\u001b[39;49m\u001b[43m(\u001b[49m\u001b[43mrr\u001b[49m\u001b[43m)\u001b[49m\n",
      "\u001b[1;31mValueError\u001b[0m: invalid literal for int() with base 10: 'abhishek'"
     ]
    }
   ],
   "source": [
    "r=int(rr)"
   ]
  },
  {
   "cell_type": "markdown",
   "id": "a35b1e4d",
   "metadata": {},
   "source": [
    "----------in python index start from 0----------"
   ]
  },
  {
   "cell_type": "code",
   "execution_count": 17,
   "id": "183893fc",
   "metadata": {},
   "outputs": [
    {
     "name": "stdout",
     "output_type": "stream",
     "text": [
      "e\n",
      "o\n",
      "ever\n"
     ]
    }
   ],
   "source": [
    "s='hello everyone'\n",
    "print(s[6])\n",
    "print(s[4])\n",
    "print(s[6:10])"
   ]
  },
  {
   "cell_type": "code",
   "execution_count": null,
   "id": "6b2e8781",
   "metadata": {},
   "outputs": [],
   "source": []
  }
 ],
 "metadata": {
  "kernelspec": {
   "display_name": "Python 3 (ipykernel)",
   "language": "python",
   "name": "python3"
  },
  "language_info": {
   "codemirror_mode": {
    "name": "ipython",
    "version": 3
   },
   "file_extension": ".py",
   "mimetype": "text/x-python",
   "name": "python",
   "nbconvert_exporter": "python",
   "pygments_lexer": "ipython3",
   "version": "3.9.12"
  }
 },
 "nbformat": 4,
 "nbformat_minor": 5
}
