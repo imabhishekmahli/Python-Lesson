{
 "cells": [
  {
   "cell_type": "markdown",
   "id": "3ba11c65",
   "metadata": {},
   "source": [
    "## list creation and operation"
   ]
  },
  {
   "cell_type": "code",
   "execution_count": 2,
   "id": "58882ac6",
   "metadata": {},
   "outputs": [
    {
     "name": "stdout",
     "output_type": "stream",
     "text": [
      "['abhishek kumar', 'mahli', 'rohan']\n",
      "[1, 2, 3, 4, 5, 6]\n",
      "[[2, 5], [7, 8], [9, 3, 6]]\n",
      "['abhishek', 1, 78, 4.23]\n"
     ]
    }
   ],
   "source": [
    "## list creation and operation\n",
    "\n",
    "empty_list=[]\n",
    "lst_1=['abhishek kumar','mahli','rohan'] #string\n",
    "lst_2=[1,2,3,4,5,6] #integer\n",
    "lst_3=[[2,5],[7,8],[9,3,6]] #list of list\n",
    "lst_4=[\"abhishek\",1,78,4.23]\n",
    "print(lst_1)\n",
    "print(lst_2)\n",
    "print(lst_3)\n",
    "print(lst_4)"
   ]
  },
  {
   "cell_type": "code",
   "execution_count": 3,
   "id": "b7aed09d",
   "metadata": {},
   "outputs": [
    {
     "name": "stdout",
     "output_type": "stream",
     "text": [
      "8\n"
     ]
    }
   ],
   "source": [
    "# list of list\n",
    "print(lst_3[1][1]) "
   ]
  },
  {
   "cell_type": "code",
   "execution_count": 9,
   "id": "94562855",
   "metadata": {},
   "outputs": [
    {
     "name": "stdout",
     "output_type": "stream",
     "text": [
      "hishek\n"
     ]
    }
   ],
   "source": [
    "# character from list \n",
    "print(lst_4[0][2:])"
   ]
  },
  {
   "cell_type": "code",
   "execution_count": 12,
   "id": "7cc18fe0",
   "metadata": {},
   "outputs": [
    {
     "name": "stdout",
     "output_type": "stream",
     "text": [
      "['mahli', 1, 78, 4.23]\n"
     ]
    }
   ],
   "source": [
    "# update the data\n",
    "lst_4[0]='mahli'\n",
    "print(lst_4)"
   ]
  },
  {
   "cell_type": "code",
   "execution_count": 15,
   "id": "8b4edea0",
   "metadata": {},
   "outputs": [
    {
     "name": "stdout",
     "output_type": "stream",
     "text": [
      "(69, 69, 69)\n"
     ]
    }
   ],
   "source": [
    "#updating list of list and print the updated data only\n",
    "lst_3[1]=69,69,69\n",
    "print(lst_3[1])"
   ]
  },
  {
   "cell_type": "code",
   "execution_count": 16,
   "id": "cb15357e",
   "metadata": {},
   "outputs": [
    {
     "name": "stdout",
     "output_type": "stream",
     "text": [
      "[4, 8, 6, 3, 'abhishek', 'how are you']\n"
     ]
    }
   ],
   "source": [
    "lst_5=[4,8,6,3,'abhishek']\n",
    "lst_5 +=['how are you']\n",
    "print(lst_5)"
   ]
  },
  {
   "cell_type": "code",
   "execution_count": 17,
   "id": "85b086f1",
   "metadata": {},
   "outputs": [
    {
     "name": "stdout",
     "output_type": "stream",
     "text": [
      "[4, 8, 6, 3, 'abhishek', 'how are you', 'hello']\n"
     ]
    }
   ],
   "source": [
    "lst_5.append('hello') # append will happen at the last index\n",
    "print(lst_5)"
   ]
  },
  {
   "cell_type": "code",
   "execution_count": 34,
   "id": "ba1fee13",
   "metadata": {},
   "outputs": [
    {
     "name": "stdout",
     "output_type": "stream",
     "text": [
      "[4, 8, 6, 3, 'btm', 'btm', 'abhishek', 'how are you', 'hello']\n"
     ]
    }
   ],
   "source": [
    "lst_5.insert(4,'btm') # insert at some specific index\n",
    "print(lst_5)"
   ]
  },
  {
   "cell_type": "code",
   "execution_count": 35,
   "id": "39cef398",
   "metadata": {},
   "outputs": [
    {
     "name": "stdout",
     "output_type": "stream",
     "text": [
      "[4, 8, 6, 3, 'btm', 'abhishek', 'how are you', 'hello']\n"
     ]
    }
   ],
   "source": [
    "lst_5.remove('btm') # remove any data by calling it\n",
    "print(lst_5)"
   ]
  },
  {
   "cell_type": "code",
   "execution_count": 41,
   "id": "a379dd26",
   "metadata": {},
   "outputs": [
    {
     "name": "stdout",
     "output_type": "stream",
     "text": [
      "[4, 4, 10, [2, 5], (69, 69, 69), [9, 3, 6]]\n"
     ]
    }
   ],
   "source": [
    "lst_3.insert(0,4)\n",
    "print(lst_3)\n",
    "lst_3.remove(10)"
   ]
  },
  {
   "cell_type": "code",
   "execution_count": 50,
   "id": "e00e769e",
   "metadata": {},
   "outputs": [
    {
     "name": "stdout",
     "output_type": "stream",
     "text": [
      "[1, 7, 4, 5]\n"
     ]
    }
   ],
   "source": [
    "## append and extend\n",
    "\n",
    "# case 1  \n",
    "# append will insert new list into the list\n",
    "a1=[1,7,4,5]\n",
    "e1=[6,8,9]\n",
    "\n",
    "# a1.append(e1)\n",
    "print(a1)\n"
   ]
  },
  {
   "cell_type": "code",
   "execution_count": 51,
   "id": "fbf22240",
   "metadata": {},
   "outputs": [
    {
     "name": "stdout",
     "output_type": "stream",
     "text": [
      "[1, 7, 4, 5, 6, 8, 9]\n"
     ]
    }
   ],
   "source": [
    "# case 2\n",
    "\n",
    "# extend will insert the data into the list\n",
    "a1.extend(e1)\n",
    "print(a1)"
   ]
  },
  {
   "cell_type": "code",
   "execution_count": 53,
   "id": "028e72e5",
   "metadata": {},
   "outputs": [
    {
     "name": "stdout",
     "output_type": "stream",
     "text": [
      "enter your name :abhishek kumar\n",
      "['how are you mr. ', 'a', 'b', 'h', 'i', 's', 'h', 'e', 'k', ' ', 'k', 'u', 'm', 'a', 'r']\n"
     ]
    }
   ],
   "source": [
    "## extend with string\n",
    "s1=['how are you mr. ']\n",
    "s2=str(input(\"enter your name :\"))\n",
    "s1.extend(s2)\n",
    "print(s1)"
   ]
  },
  {
   "cell_type": "code",
   "execution_count": 57,
   "id": "ff08ebfe",
   "metadata": {},
   "outputs": [
    {
     "name": "stdout",
     "output_type": "stream",
     "text": [
      "[1, 2, 3, 4, 'dhanbad']\n"
     ]
    }
   ],
   "source": [
    "# delete and pop\n",
    "\n",
    "# case 1\n",
    "d1=[1,2,3,4,'abhishek','dhanbad']\n",
    "del d1[4]\n",
    "print(d1)\n"
   ]
  },
  {
   "cell_type": "code",
   "execution_count": 58,
   "id": "7cd45ff2",
   "metadata": {},
   "outputs": [
    {
     "name": "stdout",
     "output_type": "stream",
     "text": [
      "4\n"
     ]
    }
   ],
   "source": [
    "# case 2\n",
    "\n",
    "h=d1.pop(3)\n",
    "print(h)"
   ]
  },
  {
   "cell_type": "code",
   "execution_count": 59,
   "id": "a41b103f",
   "metadata": {},
   "outputs": [
    {
     "name": "stdout",
     "output_type": "stream",
     "text": [
      "yes\n"
     ]
    }
   ],
   "source": [
    "# if else in list\n",
    "if_lst=['btm','bangalore','karnataka']\n",
    "if 'btm' in if_lst:\n",
    "    print(\"yes\")\n",
    "else:\n",
    "    print(\"n0\")"
   ]
  },
  {
   "cell_type": "code",
   "execution_count": 61,
   "id": "7fb6c617",
   "metadata": {},
   "outputs": [
    {
     "name": "stdout",
     "output_type": "stream",
     "text": [
      "['one', 'two', 'three', 'four', 'five']\n",
      "[0, 1, 2, 3, 4, 5]\n"
     ]
    }
   ],
   "source": [
    "# reverse the list\n",
    "rev=['five','four','three','two','one']\n",
    "rev.reverse()\n",
    "\n",
    "rev_num=[5,4,3,2,1,0]\n",
    "rev_num.reverse()\n",
    "print(rev)\n",
    "print(rev_num)"
   ]
  },
  {
   "cell_type": "code",
   "execution_count": null,
   "id": "c01565e9",
   "metadata": {},
   "outputs": [],
   "source": []
  }
 ],
 "metadata": {
  "kernelspec": {
   "display_name": "Python 3 (ipykernel)",
   "language": "python",
   "name": "python3"
  },
  "language_info": {
   "codemirror_mode": {
    "name": "ipython",
    "version": 3
   },
   "file_extension": ".py",
   "mimetype": "text/x-python",
   "name": "python",
   "nbconvert_exporter": "python",
   "pygments_lexer": "ipython3",
   "version": "3.9.12"
  }
 },
 "nbformat": 4,
 "nbformat_minor": 5
}
