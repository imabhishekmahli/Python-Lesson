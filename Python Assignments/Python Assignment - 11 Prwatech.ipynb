{
 "cells": [
  {
   "cell_type": "markdown",
   "id": "8b138d5e",
   "metadata": {},
   "source": [
    "# String"
   ]
  },
  {
   "cell_type": "code",
   "execution_count": 1,
   "id": "bc642550",
   "metadata": {},
   "outputs": [
    {
     "name": "stdout",
     "output_type": "stream",
     "text": [
      "hello everyone my name is abhishek kumar\n",
      "l\n",
      "ell\n",
      "hello everyone my name is abhish\n",
      "kumar\n"
     ]
    }
   ],
   "source": [
    "string='hello everyone my name is abhishek kumar'\n",
    "print(string)\n",
    "print(string[3])\n",
    "print(string[1:4])\n",
    "print(string[:-8])\n",
    "print(string[-5:])"
   ]
  },
  {
   "cell_type": "code",
   "execution_count": 2,
   "id": "4a3387a0",
   "metadata": {},
   "outputs": [
    {
     "ename": "TypeError",
     "evalue": "'str' object does not support item assignment",
     "output_type": "error",
     "traceback": [
      "\u001b[1;31m---------------------------------------------------------------------------\u001b[0m",
      "\u001b[1;31mTypeError\u001b[0m                                 Traceback (most recent call last)",
      "Input \u001b[1;32mIn [2]\u001b[0m, in \u001b[0;36m<cell line: 2>\u001b[1;34m()\u001b[0m\n\u001b[0;32m      1\u001b[0m \u001b[38;5;66;03m## string doesnt support item assignment\u001b[39;00m\n\u001b[1;32m----> 2\u001b[0m string[\u001b[38;5;241m2\u001b[39m]\u001b[38;5;241m=\u001b[39m\u001b[38;5;124m'\u001b[39m\u001b[38;5;124mk\u001b[39m\u001b[38;5;124m'\u001b[39m\n",
      "\u001b[1;31mTypeError\u001b[0m: 'str' object does not support item assignment"
     ]
    }
   ],
   "source": [
    "## string doesnt support item assignment\n",
    "string[2]='k'"
   ]
  },
  {
   "cell_type": "code",
   "execution_count": 3,
   "id": "99640c31",
   "metadata": {},
   "outputs": [
    {
     "ename": "NameError",
     "evalue": "name 'ab' is not defined",
     "output_type": "error",
     "traceback": [
      "\u001b[1;31m---------------------------------------------------------------------------\u001b[0m",
      "\u001b[1;31mNameError\u001b[0m                                 Traceback (most recent call last)",
      "Input \u001b[1;32mIn [3]\u001b[0m, in \u001b[0;36m<cell line: 3>\u001b[1;34m()\u001b[0m\n\u001b[0;32m      1\u001b[0m ab\u001b[38;5;241m=\u001b[39m\u001b[38;5;124m'\u001b[39m\u001b[38;5;124mabhishek\u001b[39m\u001b[38;5;124m'\u001b[39m\n\u001b[0;32m      2\u001b[0m \u001b[38;5;28;01mdel\u001b[39;00m ab\n\u001b[1;32m----> 3\u001b[0m \u001b[38;5;28mprint\u001b[39m(\u001b[43mab\u001b[49m)\n",
      "\u001b[1;31mNameError\u001b[0m: name 'ab' is not defined"
     ]
    }
   ],
   "source": [
    "ab='abhishek'\n",
    "del ab\n",
    "print(ab)"
   ]
  },
  {
   "cell_type": "code",
   "execution_count": 5,
   "id": "2a79c1cf",
   "metadata": {},
   "outputs": [
    {
     "name": "stdout",
     "output_type": "stream",
     "text": [
      "prwatech Python and Data Science\n",
      "prwatechprwatechprwatech 15\n"
     ]
    }
   ],
   "source": [
    "# string Operation\n",
    "st_op='prwatech'\n",
    "st_op_1='Python and Data Science'\n",
    "print(st_op + \" \" + st_op_1)\n",
    "print(st_op*3,end=' ')\n",
    "print(len(st_op_1)-len(st_op))"
   ]
  },
  {
   "cell_type": "code",
   "execution_count": 11,
   "id": "ad7e4b83",
   "metadata": {},
   "outputs": [
    {
     "name": "stdout",
     "output_type": "stream",
     "text": [
      "enter the stringabhishek\n",
      "a\n",
      "b\n",
      "h\n",
      "i\n",
      "s\n",
      "h\n",
      "e\n",
      "k\n",
      "0 times l letter occure\n"
     ]
    }
   ],
   "source": [
    "# Iteration through string\n",
    "count=0\n",
    "say=input(\"enter the string\")\n",
    "for i in say:\n",
    "    print(i)\n",
    "    if i=='l':\n",
    "        count+=1\n",
    "print(count, 'times l letter occure')"
   ]
  },
  {
   "cell_type": "code",
   "execution_count": 13,
   "id": "7653b104",
   "metadata": {},
   "outputs": [
    {
     "name": "stdout",
     "output_type": "stream",
     "text": [
      "True\n",
      "False\n"
     ]
    }
   ],
   "source": [
    "# string membership test\n",
    "mem='my name is abhishek kumar'\n",
    "print('my' in mem)\n",
    "print('is' not in mem)"
   ]
  },
  {
   "cell_type": "code",
   "execution_count": 20,
   "id": "49183295",
   "metadata": {},
   "outputs": [
    {
     "name": "stdout",
     "output_type": "stream",
     "text": [
      "enter lower case :abhishek\n",
      "ABHISHEK\n",
      "enter upper case :KUMAR\n",
      "kumar\n",
      "['lets', 'split', 'this', 'statement']\n"
     ]
    }
   ],
   "source": [
    "# string Method\n",
    "h=input('enter lower case :')\n",
    "print(h.upper())\n",
    "a=input('enter upper case :')\n",
    "print(a.lower())\n",
    "\n",
    "splitt='lets,split,this,statement'.split(',')\n",
    "print(splitt)"
   ]
  },
  {
   "cell_type": "code",
   "execution_count": 23,
   "id": "1bb8317c",
   "metadata": {},
   "outputs": [
    {
     "name": "stdout",
     "output_type": "stream",
     "text": [
      "s p l i t   t h i s   s t a t e m e n t\n",
      "s69p69l69i69t69 69t69h69i69s69 69s69t69a69t69e69m69e69n69t\n"
     ]
    }
   ],
   "source": [
    "## JOIN\n",
    "JOIN='split this statement'\n",
    "JOIN_2=' '.join(JOIN)\n",
    "print(JOIN_2)\n",
    "JOIN_3='69'.join(JOIN)\n",
    "print(JOIN_3)"
   ]
  },
  {
   "cell_type": "code",
   "execution_count": 24,
   "id": "1050595b",
   "metadata": {},
   "outputs": [
    {
     "data": {
      "text/plain": [
       "3"
      ]
     },
     "execution_count": 24,
     "metadata": {},
     "output_type": "execute_result"
    }
   ],
   "source": [
    "# FIND\n",
    "'im doing great in bangalore'.find('d')"
   ]
  },
  {
   "cell_type": "code",
   "execution_count": 25,
   "id": "e10e41dd",
   "metadata": {},
   "outputs": [
    {
     "name": "stdout",
     "output_type": "stream",
     "text": [
      "im doing not good\n",
      "im doing doing good\n"
     ]
    }
   ],
   "source": [
    "# REPLACE\n",
    "rep='im doing not good'\n",
    "print(rep)\n",
    "rep_1=rep.replace('not','doing')\n",
    "print(rep_1)"
   ]
  },
  {
   "cell_type": "code",
   "execution_count": 26,
   "id": "4968f46c",
   "metadata": {},
   "outputs": [],
   "source": [
    "# Palindrom"
   ]
  },
  {
   "cell_type": "code",
   "execution_count": 27,
   "id": "e396ec16",
   "metadata": {},
   "outputs": [
    {
     "name": "stdout",
     "output_type": "stream",
     "text": [
      "['abhishek', 'everyone', 'hello', 'is', 'kumar', 'my', 'name']\n",
      "<class 'list'>\n",
      "abhishek\n",
      "everyone\n",
      "hello\n",
      "is\n",
      "kumar\n",
      "my\n",
      "name\n"
     ]
    }
   ],
   "source": [
    "# Sort the data alphabetically for a string\n",
    "sorting='hello everyone my name is abhishek kumar'\n",
    "sorting_2=sorting.split()\n",
    "sorting_2.sort()\n",
    "print(sorting_2)\n",
    "print(type(sorting_2))\n",
    "\n",
    "for i in sorting_2:\n",
    "    print(i)"
   ]
  },
  {
   "cell_type": "code",
   "execution_count": 29,
   "id": "0e90ffc0",
   "metadata": {},
   "outputs": [
    {
     "name": "stdout",
     "output_type": "stream",
     "text": [
      "name is abhishek!\n"
     ]
    }
   ],
   "source": [
    "# def\n",
    "def show_name(name):\n",
    "    print('name is ' + str(name) + \"!\")\n",
    "show_name('abhishek')"
   ]
  },
  {
   "cell_type": "code",
   "execution_count": 34,
   "id": "b06d8974",
   "metadata": {},
   "outputs": [
    {
     "name": "stdout",
     "output_type": "stream",
     "text": [
      "10\n"
     ]
    }
   ],
   "source": [
    "def get_sum(lst):\n",
    "    all =0\n",
    "    for i in lst:\n",
    "        all +=i\n",
    "    return all\n",
    "lst1=get_sum({1,2,3,4})\n",
    "print(lst1)"
   ]
  },
  {
   "cell_type": "code",
   "execution_count": 63,
   "id": "10353507",
   "metadata": {},
   "outputs": [
    {
     "ename": "NameError",
     "evalue": "name 'local_variable' is not defined",
     "output_type": "error",
     "traceback": [
      "\u001b[1;31m---------------------------------------------------------------------------\u001b[0m",
      "\u001b[1;31mNameError\u001b[0m                                 Traceback (most recent call last)",
      "Input \u001b[1;32mIn [63]\u001b[0m, in \u001b[0;36m<cell line: 9>\u001b[1;34m()\u001b[0m\n\u001b[0;32m      6\u001b[0m     \u001b[38;5;28mprint\u001b[39m(local_variable)\n\u001b[0;32m      8\u001b[0m \u001b[38;5;66;03m#print(global_var)\u001b[39;00m\n\u001b[1;32m----> 9\u001b[0m \u001b[38;5;28mprint\u001b[39m(\u001b[43mlocal_variable\u001b[49m)\n",
      "\u001b[1;31mNameError\u001b[0m: name 'local_variable' is not defined"
     ]
    }
   ],
   "source": [
    "# local and global variable\n",
    "global_var='this is global'\n",
    "\n",
    "def local_var():\n",
    "    local_variable='this is local'\n",
    "    print(local_variable)\n",
    "    \n",
    "#print(global_var)\n",
    "#print(local_variable)\n",
    "#local_var()\n",
    "#print(global_var)"
   ]
  },
  {
   "cell_type": "code",
   "execution_count": 57,
   "id": "fd603ff3",
   "metadata": {},
   "outputs": [
    {
     "name": "stdout",
     "output_type": "stream",
     "text": [
      "1\n",
      "hcf of 505 and 401 is : 1\n"
     ]
    }
   ],
   "source": [
    "## HCF \n",
    "def HCF(a,b):\n",
    "\n",
    "    if a>b:\n",
    "        smaller=b\n",
    "    else:\n",
    "        smaller=a\n",
    "\n",
    "    hcf=1\n",
    "    for i in range(1,smaller+1):\n",
    "        if((a%i==0)and(b%i==0)):\n",
    "            hcf=i\n",
    "            print(hcf)\n",
    "    return(hcf)\n",
    "\n",
    "num1=\n",
    "num2=\n",
    "print('hcf of {0} and {1} is : {2}'.format(num1,num2,HCF(num1,num2)))"
   ]
  },
  {
   "cell_type": "code",
   "execution_count": null,
   "id": "e3687e58",
   "metadata": {},
   "outputs": [],
   "source": []
  }
 ],
 "metadata": {
  "kernelspec": {
   "display_name": "Python 3 (ipykernel)",
   "language": "python",
   "name": "python3"
  },
  "language_info": {
   "codemirror_mode": {
    "name": "ipython",
    "version": 3
   },
   "file_extension": ".py",
   "mimetype": "text/x-python",
   "name": "python",
   "nbconvert_exporter": "python",
   "pygments_lexer": "ipython3",
   "version": "3.9.12"
  }
 },
 "nbformat": 4,
 "nbformat_minor": 5
}
