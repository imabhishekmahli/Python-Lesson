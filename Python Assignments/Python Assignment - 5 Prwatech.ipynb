{
 "cells": [
  {
   "cell_type": "code",
   "execution_count": 13,
   "id": "1c97da41",
   "metadata": {},
   "outputs": [
    {
     "name": "stdout",
     "output_type": "stream",
     "text": [
      "10 20 30 40 50 : for loop in LIST\n",
      "10\n",
      "20\n",
      "30\n",
      "40\n",
      "50\n",
      "for loop in TUPPLE\n"
     ]
    }
   ],
   "source": [
    "## for loop\n",
    "\n",
    "a=[10,20,30,40,50,\":\"]\n",
    "b=(10,20,30,40,50)\n",
    "for i in a:\n",
    "    print(i,end=\" \")\n",
    "else:\n",
    "    print(\"for loop in LIST\")\n",
    "for j in b:\n",
    "    print(j)\n",
    "else:\n",
    "    print(\"for loop in TUPPLE\")"
   ]
  },
  {
   "cell_type": "code",
   "execution_count": 24,
   "id": "0ffee4e5",
   "metadata": {},
   "outputs": [
    {
     "name": "stdout",
     "output_type": "stream",
     "text": [
      "20\n",
      "1000\n",
      "100000\n",
      "15000000\n",
      "final product : 15000000\n"
     ]
    }
   ],
   "source": [
    "x=[10,50,100,150]\n",
    "product=2\n",
    "\n",
    "for i in x:\n",
    "    product *= i\n",
    "    print(product)\n",
    "print( \"final product : {}\".format(product))"
   ]
  },
  {
   "cell_type": "code",
   "execution_count": 31,
   "id": "5358455c",
   "metadata": {},
   "outputs": [
    {
     "name": "stdout",
     "output_type": "stream",
     "text": [
      "50\n",
      "45\n",
      "40\n",
      "35\n",
      "30\n",
      "25\n",
      "20\n",
      "15\n"
     ]
    }
   ],
   "source": [
    "## range function\n",
    "# \n",
    "#\n",
    "for i in range(50,10,-5):\n",
    "    print(i)\n",
    "    "
   ]
  },
  {
   "cell_type": "code",
   "execution_count": 32,
   "id": "2527908f",
   "metadata": {},
   "outputs": [
    {
     "name": "stdout",
     "output_type": "stream",
     "text": [
      "0\n",
      "1\n",
      "2\n",
      "3\n",
      "4\n",
      "5\n",
      "6\n",
      "7\n",
      "8\n",
      "9\n"
     ]
    }
   ],
   "source": [
    "for k in range(10):\n",
    "    print(k)"
   ]
  },
  {
   "cell_type": "code",
   "execution_count": 33,
   "id": "f1f83d13",
   "metadata": {},
   "outputs": [
    {
     "name": "stdout",
     "output_type": "stream",
     "text": [
      "2\n",
      "4\n",
      "6\n",
      "8\n",
      "10\n",
      "12\n",
      "14\n",
      "16\n",
      "18\n"
     ]
    }
   ],
   "source": [
    "for g in range (2,20,2):\n",
    "    print(g)"
   ]
  },
  {
   "cell_type": "code",
   "execution_count": 57,
   "id": "f021ac4e",
   "metadata": {},
   "outputs": [
    {
     "name": "stdout",
     "output_type": "stream",
     "text": [
      "1\n",
      "odd\n",
      "2\n",
      "even\n",
      "5\n",
      "odd\n",
      "4\n",
      "even\n",
      "8\n",
      "even\n",
      "9\n",
      "odd\n",
      "6\n",
      "even\n",
      "25\n",
      "odd\n",
      "44\n",
      "even\n",
      "66\n",
      "even\n",
      "no data available "
     ]
    }
   ],
   "source": [
    "## odd even using for loop\n",
    "\n",
    "w=[1,2,5,4,8,9,6,25,44,66,]\n",
    "#w=input(\"enter the no. :\")\n",
    "for i in w:\n",
    "    print(i)\n",
    "    if i%2==1:\n",
    "        print(\"odd\")\n",
    "    else:\n",
    "        print(\"even\")\n",
    "else:\n",
    "    print(\"no data available\",end=\" \")"
   ]
  },
  {
   "cell_type": "code",
   "execution_count": 65,
   "id": "1c98ae43",
   "metadata": {},
   "outputs": [
    {
     "name": "stdout",
     "output_type": "stream",
     "text": [
      "enter the no.:9\n",
      "odd\n"
     ]
    }
   ],
   "source": [
    "#odd even taking data from user\n",
    "data=int(input(\"enter the no.:\"))\n",
    "if data%2==1:\n",
    "    print(\"odd\")\n",
    "else:\n",
    "    print(\"even\")"
   ]
  },
  {
   "cell_type": "code",
   "execution_count": 3,
   "id": "70204ca4",
   "metadata": {},
   "outputs": [
    {
     "name": "stdout",
     "output_type": "stream",
     "text": [
      "4\n",
      "5\n",
      "6\n",
      "7\n",
      "8\n",
      "9\n",
      "10\n"
     ]
    }
   ],
   "source": [
    "## while loop\n",
    "\n",
    "i=3\n",
    "while i<10:\n",
    "    print(i+1)\n",
    "    i=i+1"
   ]
  },
  {
   "cell_type": "code",
   "execution_count": 4,
   "id": "2f04f152",
   "metadata": {},
   "outputs": [
    {
     "name": "stdout",
     "output_type": "stream",
     "text": [
      "2\n",
      "3\n",
      "4\n",
      "5\n",
      "6\n",
      "7\n",
      "8\n",
      "9\n",
      "v is no longer less than 10\n"
     ]
    }
   ],
   "source": [
    "v=2\n",
    "while v<10:\n",
    "    print(v)\n",
    "    v=v+1\n",
    "else:\n",
    "    print(\"v is no longer less than 10\")"
   ]
  },
  {
   "cell_type": "code",
   "execution_count": null,
   "id": "046747ec",
   "metadata": {},
   "outputs": [],
   "source": []
  }
 ],
 "metadata": {
  "kernelspec": {
   "display_name": "Python 3 (ipykernel)",
   "language": "python",
   "name": "python3"
  },
  "language_info": {
   "codemirror_mode": {
    "name": "ipython",
    "version": 3
   },
   "file_extension": ".py",
   "mimetype": "text/x-python",
   "name": "python",
   "nbconvert_exporter": "python",
   "pygments_lexer": "ipython3",
   "version": "3.9.12"
  }
 },
 "nbformat": 4,
 "nbformat_minor": 5
}
