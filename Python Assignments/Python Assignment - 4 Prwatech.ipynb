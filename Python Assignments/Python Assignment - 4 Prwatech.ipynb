{
 "cells": [
  {
   "cell_type": "markdown",
   "id": "22afce11",
   "metadata": {},
   "source": [
    "## Flow Chart"
   ]
  },
  {
   "cell_type": "code",
   "execution_count": 1,
   "id": "98961b63",
   "metadata": {},
   "outputs": [
    {
     "name": "stdout",
     "output_type": "stream",
     "text": [
      "enter the no. :4\n",
      "less than 5.\n",
      "this will always print.\n"
     ]
    }
   ],
   "source": [
    "x=int(input(\"enter the no. :\"))\n",
    "if x>5:\n",
    "    print(\"greater than 5.\")\n",
    "else:\n",
    "    print(\"less than 5.\")\n",
    "    \n",
    "print(\"this will always print.\")"
   ]
  },
  {
   "cell_type": "code",
   "execution_count": 2,
   "id": "df8ab085",
   "metadata": {},
   "outputs": [
    {
     "name": "stdout",
     "output_type": "stream",
     "text": [
      "enter the no. :55\n",
      "number is greater than 10 :\n",
      "this will always print.\n"
     ]
    }
   ],
   "source": [
    "# case 1\n",
    "\n",
    "num=int(input(\"enter the no. :\"))\n",
    "if num>10:\n",
    "    print(\"number is greater than 10 :\")\n",
    "    \n",
    "print(\"this will always print.\")"
   ]
  },
  {
   "cell_type": "code",
   "execution_count": 8,
   "id": "390226aa",
   "metadata": {},
   "outputs": [
    {
     "name": "stdout",
     "output_type": "stream",
     "text": [
      "enter the no. :2\n",
      "number is negative.\n",
      "this will always print.\n"
     ]
    }
   ],
   "source": [
    "# case 2\n",
    "    \n",
    "y=int(input(\"enter the no. :\"))\n",
    "if None:  ## it will not allow to get into the loop.\n",
    "    print(\"number is positive.\")\n",
    "else:\n",
    "    print(\"number is negative.\")\n",
    "    \n",
    "print(\"this will always print.\")"
   ]
  },
  {
   "cell_type": "code",
   "execution_count": 15,
   "id": "c0939717",
   "metadata": {},
   "outputs": [
    {
     "name": "stdout",
     "output_type": "stream",
     "text": [
      "enter the marks :100\n",
      "EXCELLENT.\n"
     ]
    }
   ],
   "source": [
    "## Nested Loop\n",
    "\n",
    "marks=float(input(\"enter the marks :\"))\n",
    "if marks>=90 and marks<=100:\n",
    "    print(\"EXCELLENT.\")\n",
    "elif marks>100:\n",
    "    print(\"NOT VALID.\")\n",
    "elif marks>=80:\n",
    "    print(\"VERY GOOD\")\n",
    "elif (marks>=60 and marks<=70):\n",
    "    print(\"GOOD\")\n",
    "elif (marks>=50 and marks<=60):\n",
    "    print(\"AVERAGE.\")\n",
    "elif (marks<=50):\n",
    "    print(\"FAIL\")"
   ]
  },
  {
   "cell_type": "code",
   "execution_count": 4,
   "id": "c18b54e4",
   "metadata": {},
   "outputs": [
    {
     "name": "stdout",
     "output_type": "stream",
     "text": [
      "enter the marks :66\n",
      "1st division\n"
     ]
    }
   ],
   "source": [
    "# case 2\n",
    "\n",
    "marks=float(input(\"enter the marks :\"))\n",
    "if marks>=35:\n",
    "    if marks>=90:\n",
    "        print(\"excellent.\")\n",
    "    elif marks>=80:\n",
    "        print(\"very good.\")\n",
    "    elif marks>=70:\n",
    "        print(\"good\")\n",
    "    else:\n",
    "        print(\"1st division\")\n",
    "else:\n",
    "    print(\"fail.\")"
   ]
  },
  {
   "cell_type": "markdown",
   "id": "42acdb2f",
   "metadata": {},
   "source": [
    "## Find out the Biggest no. between 3 no."
   ]
  },
  {
   "cell_type": "code",
   "execution_count": 3,
   "id": "ccddc754",
   "metadata": {},
   "outputs": [
    {
     "name": "stdout",
     "output_type": "stream",
     "text": [
      "enter the no. :55\n",
      "enter the no. :66\n",
      "enter the no. :44\n",
      "biggest no. is : 66\n"
     ]
    }
   ],
   "source": [
    "a=int(input(\"enter the no. :\"))\n",
    "b=int(input(\"enter the no. :\"))\n",
    "c=int(input(\"enter the no. :\"))\n",
    "\n",
    "if ((a>=b) and (a>=c)):\n",
    "    bigger=a\n",
    "elif ((b>=a) and (b>=c)):\n",
    "    bigger=b\n",
    "else:\n",
    "    bigger=c\n",
    "\n",
    "print(\"biggest no. is : {}\".format(bigger))"
   ]
  },
  {
   "cell_type": "code",
   "execution_count": null,
   "id": "db2e4b7f",
   "metadata": {},
   "outputs": [],
   "source": []
  }
 ],
 "metadata": {
  "kernelspec": {
   "display_name": "Python 3 (ipykernel)",
   "language": "python",
   "name": "python3"
  },
  "language_info": {
   "codemirror_mode": {
    "name": "ipython",
    "version": 3
   },
   "file_extension": ".py",
   "mimetype": "text/x-python",
   "name": "python",
   "nbconvert_exporter": "python",
   "pygments_lexer": "ipython3",
   "version": "3.9.12"
  }
 },
 "nbformat": 4,
 "nbformat_minor": 5
}
