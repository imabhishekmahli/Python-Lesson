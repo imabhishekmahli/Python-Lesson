{
 "cells": [
  {
   "cell_type": "markdown",
   "id": "07d115a0",
   "metadata": {},
   "source": [
    "## TUPLE"
   ]
  },
  {
   "cell_type": "code",
   "execution_count": 5,
   "id": "2cbc3e91",
   "metadata": {},
   "outputs": [
    {
     "name": "stdout",
     "output_type": "stream",
     "text": [
      "(1, 2, 3, ['abhishek', 'kumar', 'mahli'], 4, 5, 6)\n",
      "kumar\n"
     ]
    }
   ],
   "source": [
    "tup=(1,2,3,['abhishek','kumar','mahli'],4,5,6)\n",
    "print(tup)\n",
    "print(tup[3][1])"
   ]
  },
  {
   "cell_type": "code",
   "execution_count": 7,
   "id": "7cc2b1a2",
   "metadata": {},
   "outputs": [
    {
     "name": "stdout",
     "output_type": "stream",
     "text": [
      "<class 'str'>\n",
      "<class 'tuple'>\n"
     ]
    }
   ],
   "source": [
    "tup_1=('hi')\n",
    "tup_2=('hi',)\n",
    "print(type(tup_1))\n",
    "print(type(tup_2))"
   ]
  },
  {
   "cell_type": "code",
   "execution_count": 15,
   "id": "7c295f70",
   "metadata": {},
   "outputs": [
    {
     "name": "stdout",
     "output_type": "stream",
     "text": [
      "(1, 2, 3, ['abhishek', 'kumar', 'mahli'], 4, 5, 6)\n",
      "(2, 3, ['abhishek', 'kumar', 'mahli'], 4, 5, 6)\n",
      "(2, 3, ['abhishek', 'kumar', 'mahli'], 4, 5)\n",
      "(6,)\n"
     ]
    }
   ],
   "source": [
    "tup_3=(1,2,3,['abhishek','kumar','mahli'],4,5,6)\n",
    "print(tup[:])\n",
    "print(tup[1:])\n",
    "print(tup[1:6])\n",
    "print(tup[-1:])"
   ]
  },
  {
   "cell_type": "code",
   "execution_count": 16,
   "id": "40eba139",
   "metadata": {},
   "outputs": [
    {
     "ename": "TypeError",
     "evalue": "'tuple' object does not support item assignment",
     "output_type": "error",
     "traceback": [
      "\u001b[1;31m---------------------------------------------------------------------------\u001b[0m",
      "\u001b[1;31mTypeError\u001b[0m                                 Traceback (most recent call last)",
      "Input \u001b[1;32mIn [16]\u001b[0m, in \u001b[0;36m<cell line: 2>\u001b[1;34m()\u001b[0m\n\u001b[0;32m      1\u001b[0m \u001b[38;5;66;03m## Changing in tuple\u001b[39;00m\n\u001b[1;32m----> 2\u001b[0m tup[\u001b[38;5;241m2\u001b[39m]\u001b[38;5;241m=\u001b[39m\u001b[38;5;241m5\u001b[39m\n",
      "\u001b[1;31mTypeError\u001b[0m: 'tuple' object does not support item assignment"
     ]
    }
   ],
   "source": [
    "## Changing in tuple\n",
    "tup[2]=5    ## we can not update tuple"
   ]
  },
  {
   "cell_type": "code",
   "execution_count": 19,
   "id": "84073482",
   "metadata": {},
   "outputs": [
    {
     "name": "stdout",
     "output_type": "stream",
     "text": [
      "(1, 2, 3, ['abhishek', 'gopal', 'mahli'], 4, 5, 6)\n",
      "(1, 2, 3, ['abhishek', 'gopal', 'mahli'], 4, 5, 6)\n"
     ]
    }
   ],
   "source": [
    "## updating list inside the tuple\n",
    "print(tup)\n",
    "tup[3][1]='gopal'\n",
    "print(tup)"
   ]
  },
  {
   "cell_type": "code",
   "execution_count": 21,
   "id": "459c553a",
   "metadata": {},
   "outputs": [
    {
     "name": "stdout",
     "output_type": "stream",
     "text": [
      "c\n"
     ]
    },
    {
     "ename": "TypeError",
     "evalue": "'str' object does not support item assignment",
     "output_type": "error",
     "traceback": [
      "\u001b[1;31m---------------------------------------------------------------------------\u001b[0m",
      "\u001b[1;31mTypeError\u001b[0m                                 Traceback (most recent call last)",
      "Input \u001b[1;32mIn [21]\u001b[0m, in \u001b[0;36m<cell line: 4>\u001b[1;34m()\u001b[0m\n\u001b[0;32m      2\u001b[0m lst\u001b[38;5;241m=\u001b[39m\u001b[38;5;124m'\u001b[39m\u001b[38;5;124mprwatech\u001b[39m\u001b[38;5;124m'\u001b[39m\n\u001b[0;32m      3\u001b[0m \u001b[38;5;28mprint\u001b[39m(lst[\u001b[38;5;241m6\u001b[39m])\n\u001b[1;32m----> 4\u001b[0m lst[\u001b[38;5;241m2\u001b[39m]\u001b[38;5;241m=\u001b[39m\u001b[38;5;124m'\u001b[39m\u001b[38;5;124mxx\u001b[39m\u001b[38;5;124m'\u001b[39m\n",
      "\u001b[1;31mTypeError\u001b[0m: 'str' object does not support item assignment"
     ]
    }
   ],
   "source": [
    "# sting element is also immutable\n",
    "lst='prwatech'\n",
    "print(lst[6])\n",
    "lst[2]='xx'  # sting can not be upated"
   ]
  },
  {
   "cell_type": "code",
   "execution_count": 22,
   "id": "011f497b",
   "metadata": {},
   "outputs": [
    {
     "name": "stdout",
     "output_type": "stream",
     "text": [
      "(12, 23, 34, 45, 'abhishek', 'kumar')\n"
     ]
    }
   ],
   "source": [
    "## concatination in tuple\n",
    "con=(12,23,34,45)+('abhishek','kumar')\n",
    "print(con)"
   ]
  },
  {
   "cell_type": "code",
   "execution_count": 27,
   "id": "f2d91ace",
   "metadata": {},
   "outputs": [
    {
     "name": "stdout",
     "output_type": "stream",
     "text": [
      "('abhishek', 'abhishek', 'abhishek', 'abhishek', 'abhishek')\n"
     ]
    },
    {
     "data": {
      "text/plain": [
       "tuple"
      ]
     },
     "execution_count": 27,
     "metadata": {},
     "output_type": "execute_result"
    }
   ],
   "source": [
    "# other operations in tuple \n",
    "con_1=(('abhishek',)*5)\n",
    "print(con_1)\n",
    "type(con_1)"
   ]
  },
  {
   "cell_type": "code",
   "execution_count": 29,
   "id": "04863022",
   "metadata": {},
   "outputs": [
    {
     "ename": "TypeError",
     "evalue": "'tuple' object doesn't support item deletion",
     "output_type": "error",
     "traceback": [
      "\u001b[1;31m---------------------------------------------------------------------------\u001b[0m",
      "\u001b[1;31mTypeError\u001b[0m                                 Traceback (most recent call last)",
      "Input \u001b[1;32mIn [29]\u001b[0m, in \u001b[0;36m<cell line: 3>\u001b[1;34m()\u001b[0m\n\u001b[0;32m      1\u001b[0m \u001b[38;5;66;03m## Tuple Deletion\u001b[39;00m\n\u001b[0;32m      2\u001b[0m delt\u001b[38;5;241m=\u001b[39m(\u001b[38;5;241m4\u001b[39m,\u001b[38;5;241m5\u001b[39m,\u001b[38;5;241m6\u001b[39m,\u001b[38;5;241m3\u001b[39m,\u001b[38;5;241m2\u001b[39m,\u001b[38;5;241m1\u001b[39m,\u001b[38;5;241m2\u001b[39m)\n\u001b[1;32m----> 3\u001b[0m \u001b[38;5;28;01mdel\u001b[39;00m delt[\u001b[38;5;241m2\u001b[39m]\n\u001b[0;32m      4\u001b[0m \u001b[38;5;28mprint\u001b[39m(delt)\n",
      "\u001b[1;31mTypeError\u001b[0m: 'tuple' object doesn't support item deletion"
     ]
    }
   ],
   "source": [
    "## Tuple Deletion\n",
    "delt=(4,5,6,3,2,1,2)\n",
    "del delt[2]\n",
    "print(delt)"
   ]
  },
  {
   "cell_type": "code",
   "execution_count": 34,
   "id": "9cf6a380",
   "metadata": {},
   "outputs": [
    {
     "name": "stdout",
     "output_type": "stream",
     "text": [
      "2\n",
      "3\n",
      "5\n"
     ]
    }
   ],
   "source": [
    "## Tupel Count\n",
    "tup_count=(1,2,2,3,3,6,6,5,4,4,4,7)\n",
    "print(tup_count.count(6))\n",
    "print(tup_count.count(4))\n",
    "print(tup_count.index(6))"
   ]
  },
  {
   "cell_type": "code",
   "execution_count": 36,
   "id": "cc3f5166",
   "metadata": {},
   "outputs": [
    {
     "name": "stdout",
     "output_type": "stream",
     "text": [
      "False\n",
      "True\n"
     ]
    }
   ],
   "source": [
    "## membership\n",
    "mem=(1,2,4,5,6)\n",
    "print(3 in mem)\n",
    "print(2 in mem)"
   ]
  },
  {
   "cell_type": "code",
   "execution_count": 37,
   "id": "60eb6577",
   "metadata": {},
   "outputs": [
    {
     "data": {
      "text/plain": [
       "14"
      ]
     },
     "execution_count": 37,
     "metadata": {},
     "output_type": "execute_result"
    }
   ],
   "source": [
    "## length of tuple\n",
    "length=(1,2,4,5,7,8,9,6,3,2,1,4,5,4)\n",
    "len(length)"
   ]
  },
  {
   "cell_type": "code",
   "execution_count": 39,
   "id": "5395ec68",
   "metadata": {},
   "outputs": [
    {
     "name": "stdout",
     "output_type": "stream",
     "text": [
      "[1, 2, 3, 4, 4, 4, 5, 5, 6, 6, 6, 7, 8, 9]\n"
     ]
    }
   ],
   "source": [
    "## Tuple sort\n",
    "\n",
    "sort=(5,4,6,6,9,8,7,4,1,2,3,6,5,4)\n",
    "print(sorted(sort))"
   ]
  },
  {
   "cell_type": "code",
   "execution_count": 43,
   "id": "4cc6b1d3",
   "metadata": {},
   "outputs": [
    {
     "name": "stdout",
     "output_type": "stream",
     "text": [
      "9\n"
     ]
    },
    {
     "data": {
      "text/plain": [
       "1"
      ]
     },
     "execution_count": 43,
     "metadata": {},
     "output_type": "execute_result"
    }
   ],
   "source": [
    "## max min\n",
    "print(max(sort))\n",
    "min(sort)"
   ]
  },
  {
   "cell_type": "code",
   "execution_count": 47,
   "id": "956356f3",
   "metadata": {},
   "outputs": [
    {
     "data": {
      "text/plain": [
       "6.5"
      ]
     },
     "execution_count": 47,
     "metadata": {},
     "output_type": "execute_result"
    }
   ],
   "source": [
    "## libraries\n",
    "import statistics as st\n",
    "st.mean((5,4,7,8,9,6))"
   ]
  },
  {
   "cell_type": "code",
   "execution_count": 48,
   "id": "b5d2c29f",
   "metadata": {},
   "outputs": [
    {
     "data": {
      "text/plain": [
       "120"
      ]
     },
     "execution_count": 48,
     "metadata": {},
     "output_type": "execute_result"
    }
   ],
   "source": [
    "import math as mat\n",
    "mat.factorial(5)"
   ]
  },
  {
   "cell_type": "code",
   "execution_count": null,
   "id": "7d3ede3a",
   "metadata": {},
   "outputs": [],
   "source": []
  }
 ],
 "metadata": {
  "kernelspec": {
   "display_name": "Python 3 (ipykernel)",
   "language": "python",
   "name": "python3"
  },
  "language_info": {
   "codemirror_mode": {
    "name": "ipython",
    "version": 3
   },
   "file_extension": ".py",
   "mimetype": "text/x-python",
   "name": "python",
   "nbconvert_exporter": "python",
   "pygments_lexer": "ipython3",
   "version": "3.9.12"
  }
 },
 "nbformat": 4,
 "nbformat_minor": 5
}
