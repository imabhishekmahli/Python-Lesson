{
 "cells": [
  {
   "cell_type": "markdown",
   "id": "97ad2891",
   "metadata": {},
   "source": [
    "## CONCATINATION"
   ]
  },
  {
   "cell_type": "code",
   "execution_count": 16,
   "id": "f2dcc7da",
   "metadata": {},
   "outputs": [
    {
     "name": "stdout",
     "output_type": "stream",
     "text": [
      "10 20\n",
      "value of a is 10 , value of b is 20 , name is abhishek\n",
      "value of a is 20 , value of b is 10 , name is abhishek\n"
     ]
    }
   ],
   "source": [
    "a=10\n",
    "b=20\n",
    "c='abhishek'\n",
    "print(a,b)\n",
    "\n",
    "print(\"value of a is {} , value of b is {} , name is {}\".format(a,b,c))\n",
    "print(\"value of a is {1} , value of b is {0} , name is {2}\".format(a,b,c))"
   ]
  },
  {
   "cell_type": "markdown",
   "id": "3a56b8d8",
   "metadata": {},
   "source": [
    "### string value"
   ]
  },
  {
   "cell_type": "code",
   "execution_count": 20,
   "id": "2d8d56dd",
   "metadata": {},
   "outputs": [
    {
     "name": "stdout",
     "output_type": "stream",
     "text": [
      "i love my country , name_is india\n"
     ]
    }
   ],
   "source": [
    "my=\"country\"\n",
    "name_is=\"india\"\n",
    "\n",
    "print(\"i love my {1} , name_is {0}\".format(name_is,my))"
   ]
  },
  {
   "cell_type": "markdown",
   "id": "865b494f",
   "metadata": {},
   "source": [
    "### print without references variable or pass by value"
   ]
  },
  {
   "cell_type": "code",
   "execution_count": 28,
   "id": "2bca9aa0",
   "metadata": {},
   "outputs": [
    {
     "name": "stdout",
     "output_type": "stream",
     "text": [
      "my name is abhishek mahli and im from dhanbad_jharkhand\n"
     ]
    }
   ],
   "source": [
    "print(\"my name is {} {} and im from {}\".format('abhishek' ,'mahli','dhanbad_jharkhand'))"
   ]
  },
  {
   "cell_type": "markdown",
   "id": "8875d49b",
   "metadata": {},
   "source": [
    "### input enter by user"
   ]
  },
  {
   "cell_type": "code",
   "execution_count": 40,
   "id": "828bf2f6",
   "metadata": {},
   "outputs": [
    {
     "name": "stdout",
     "output_type": "stream",
     "text": [
      "enter value of a :52\n",
      "enter value of b :2\n",
      "value of c is 104,value of d is 54\n"
     ]
    }
   ],
   "source": [
    "a=int(input(\"enter value of a :\"))\n",
    "b=int(input(\"enter value of b :\"))\n",
    "\n",
    "c=a*b\n",
    "d=a+b\n",
    "print(\"value of c is {},value of d is {}\".format(c,d))"
   ]
  },
  {
   "cell_type": "code",
   "execution_count": 64,
   "id": "78caf66b",
   "metadata": {},
   "outputs": [
    {
     "name": "stdout",
     "output_type": "stream",
     "text": [
      "enter your age :24\n",
      "your are :8760.0 months old\n"
     ]
    }
   ],
   "source": [
    "x=float(input(\"enter your age :\"))\n",
    "print(f\"your are :{x*365} months old\".format(x))"
   ]
  },
  {
   "cell_type": "markdown",
   "id": "55ffb597",
   "metadata": {},
   "source": [
    "### enter multiple value"
   ]
  },
  {
   "cell_type": "code",
   "execution_count": 3,
   "id": "7a7a0798",
   "metadata": {},
   "outputs": [
    {
     "name": "stdout",
     "output_type": "stream",
     "text": [
      "enter your name :abhi\n",
      "enter your age :24.3\n",
      "enter your bank balance :1.12\n",
      "('abhi', 24.3, 1.12)\n"
     ]
    }
   ],
   "source": [
    "x=str(input(\"enter your name :\")),float((input(\"enter your age :\"))),float((input(\"enter your bank balance :\")))\n",
    "print(x)"
   ]
  },
  {
   "cell_type": "markdown",
   "id": "43974338",
   "metadata": {},
   "source": [
    "### arithmatic operation"
   ]
  },
  {
   "cell_type": "code",
   "execution_count": 50,
   "id": "d505334f",
   "metadata": {},
   "outputs": [
    {
     "name": "stdout",
     "output_type": "stream",
     "text": [
      "11\n",
      "7\n",
      "18\n",
      "4.5\n",
      "4\n",
      "81\n",
      "1\n"
     ]
    }
   ],
   "source": [
    "a=9\n",
    "b=2\n",
    "\n",
    "print(a+b)\n",
    "print(a-b)\n",
    "print(a*b)\n",
    "print(a/b)\n",
    "\n",
    "print(a//b) ## floor division\n",
    "print(a**b) ## exponenial\n",
    "print(a%b)  ## remainder"
   ]
  },
  {
   "cell_type": "markdown",
   "id": "8448a4dd",
   "metadata": {},
   "source": [
    "### comparision operator"
   ]
  },
  {
   "cell_type": "code",
   "execution_count": 54,
   "id": "3060f82e",
   "metadata": {},
   "outputs": [
    {
     "name": "stdout",
     "output_type": "stream",
     "text": [
      "False\n",
      "True\n",
      "False\n",
      "False\n",
      "True\n",
      "True\n"
     ]
    }
   ],
   "source": [
    "p=8\n",
    "q=7\n",
    "\n",
    "print(p<q)\n",
    "print(p>q)\n",
    "print(p==q)\n",
    "print(p<=q)\n",
    "print(p>=q)\n",
    "print(p!=q)"
   ]
  },
  {
   "cell_type": "markdown",
   "id": "0cd80fc9",
   "metadata": {},
   "source": [
    "### logical operation"
   ]
  },
  {
   "cell_type": "code",
   "execution_count": 55,
   "id": "bc9f5424",
   "metadata": {},
   "outputs": [
    {
     "name": "stdout",
     "output_type": "stream",
     "text": [
      "True False\n",
      "True\n",
      "False\n",
      "False\n",
      "True\n"
     ]
    }
   ],
   "source": [
    "a=True\n",
    "b=False\n",
    "\n",
    "print(a,b)\n",
    "print(a or b)\n",
    "print(a and b)\n",
    "print(not a)\n",
    "print(not b)"
   ]
  },
  {
   "cell_type": "markdown",
   "id": "ef6e6d76",
   "metadata": {},
   "source": [
    "### special operator"
   ]
  },
  {
   "cell_type": "code",
   "execution_count": 57,
   "id": "be5e322c",
   "metadata": {},
   "outputs": [
    {
     "name": "stdout",
     "output_type": "stream",
     "text": [
      "2067898134192\n",
      "2067898134192\n",
      "False\n",
      "True\n"
     ]
    }
   ],
   "source": [
    "a=45\n",
    "b=45\n",
    "print(id(a))\n",
    "print(id(b))\n",
    "\n",
    "print(a is not b)\n",
    "print(a is b)"
   ]
  },
  {
   "cell_type": "code",
   "execution_count": 58,
   "id": "3f8b6260",
   "metadata": {},
   "outputs": [
    {
     "name": "stdout",
     "output_type": "stream",
     "text": [
      "2068012855232\n",
      "2068013306496\n",
      "False\n"
     ]
    }
   ],
   "source": [
    "l1=[1,2,3]\n",
    "l2=[1,2,3]\n",
    "\n",
    "print(id(l1))\n",
    "print(id(l2))\n",
    "print(l1 is l2)"
   ]
  },
  {
   "cell_type": "code",
   "execution_count": 59,
   "id": "f17acd9f",
   "metadata": {},
   "outputs": [
    {
     "name": "stdout",
     "output_type": "stream",
     "text": [
      "True\n"
     ]
    }
   ],
   "source": [
    "l3={1,2,3,4,5}\n",
    "print (5 in l3)"
   ]
  },
  {
   "cell_type": "code",
   "execution_count": 62,
   "id": "92566f42",
   "metadata": {},
   "outputs": [
    {
     "name": "stdout",
     "output_type": "stream",
     "text": [
      "False\n"
     ]
    }
   ],
   "source": [
    "l4={1:\"aa\",2:\"bb\",3:\"cc\"}\n",
    "print(2 not in l4)       ## checking KEY"
   ]
  },
  {
   "cell_type": "code",
   "execution_count": null,
   "id": "6c0ff33a",
   "metadata": {},
   "outputs": [],
   "source": []
  }
 ],
 "metadata": {
  "kernelspec": {
   "display_name": "Python 3 (ipykernel)",
   "language": "python",
   "name": "python3"
  },
  "language_info": {
   "codemirror_mode": {
    "name": "ipython",
    "version": 3
   },
   "file_extension": ".py",
   "mimetype": "text/x-python",
   "name": "python",
   "nbconvert_exporter": "python",
   "pygments_lexer": "ipython3",
   "version": "3.9.12"
  }
 },
 "nbformat": 4,
 "nbformat_minor": 5
}
