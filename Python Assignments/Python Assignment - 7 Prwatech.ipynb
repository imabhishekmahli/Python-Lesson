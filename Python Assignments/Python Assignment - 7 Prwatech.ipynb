{
 "cells": [
  {
   "cell_type": "markdown",
   "id": "5276fc2d",
   "metadata": {},
   "source": [
    "## sorting"
   ]
  },
  {
   "cell_type": "code",
   "execution_count": 1,
   "id": "fe49ca13",
   "metadata": {},
   "outputs": [
    {
     "name": "stdout",
     "output_type": "stream",
     "text": [
      "[1, 2, 3, 4, 4, 5, 5, 6, 7, 9, 12, 111, 366]\n",
      "[366, 111, 12, 9, 7, 6, 5, 5, 4, 4, 3, 2, 1]\n"
     ]
    }
   ],
   "source": [
    "sort=[5,7,1,2,366,9,5,4,111,3,6,4,12,]\n",
    "a=sorted(sort)\n",
    "b=sorted(sort,reverse=True)\n",
    "print(a)\n",
    "print(b)"
   ]
  },
  {
   "cell_type": "code",
   "execution_count": 8,
   "id": "8bba057a",
   "metadata": {},
   "outputs": [
    {
     "name": "stdout",
     "output_type": "stream",
     "text": [
      "[2.0, 2, 2.001, 2.1, 2.101, 2.3, 3, 4, 5]\n",
      "['Two', 'ab', 'abhi', 'abhis', 'one', 'three']\n"
     ]
    }
   ],
   "source": [
    "## sorting in float and string\n",
    "\n",
    "fl=[2.3,2.1,2.001,3,4,5,2.101,2.0,2]   # which ever comes first in the original int or float\n",
    "fl_a=sorted(fl)\n",
    "print(fl_a)\n",
    "\n",
    "st=['abhi','abhis','ab','one','Two','three']  # capital letter will come first\n",
    "st_a=sorted(st)\n",
    "print(st_a)"
   ]
  },
  {
   "cell_type": "code",
   "execution_count": 9,
   "id": "8682401b",
   "metadata": {},
   "outputs": [
    {
     "name": "stdout",
     "output_type": "stream",
     "text": [
      "[2.3, 2.1, 2.001, 3, 4, 5, 2.101, 2.0, 2]\n"
     ]
    }
   ],
   "source": [
    "## copy function \n",
    "fl_1=fl.copy()\n",
    "print(fl_1)"
   ]
  },
  {
   "cell_type": "code",
   "execution_count": 25,
   "id": "c2d60ac6",
   "metadata": {},
   "outputs": [
    {
     "name": "stdout",
     "output_type": "stream",
     "text": [
      "1 2 3 7 8 9 4 5 6\n"
     ]
    }
   ],
   "source": [
    "## split\n",
    "x='1 2 3 7 8 9 4 5 6'\n",
    "str_split='hello, everyone my name is abhishek kumar'\n",
    "\n",
    "xx=x.split(' ')\n",
    "print(x)"
   ]
  },
  {
   "cell_type": "code",
   "execution_count": 27,
   "id": "16552f19",
   "metadata": {},
   "outputs": [
    {
     "name": "stdout",
     "output_type": "stream",
     "text": [
      "-4\n"
     ]
    }
   ],
   "source": [
    "# negative index\n",
    "neg=[0,1,2,3,4,5,-4,-3,-2,-1]   # in negative indexing will start from last element having -1 index\n",
    "print(neg[-4])"
   ]
  },
  {
   "cell_type": "code",
   "execution_count": 36,
   "id": "e7491ee5",
   "metadata": {},
   "outputs": [
    {
     "name": "stdout",
     "output_type": "stream",
     "text": [
      "[10, 30, 50, 70, 60, 40, 20]\n",
      "[10, 30, 50, 70, 60]\n",
      "[40, 20]\n",
      "[10, 50, 60, 20]\n",
      "[20, 60, 50, 10]\n",
      "[30, 70]\n"
     ]
    }
   ],
   "source": [
    "## slicing \n",
    "\n",
    "slic=[10,30,50,70,60,40,20]\n",
    "print(slic[:])  ## will print all the elements\n",
    "print(slic[:5])  ## 0 to 4 index\n",
    "print(slic[5:])  ## after 4th index\n",
    "print(slic[::2])  ## alternate index (jump)\n",
    "print(slic[::-2])  ## reverse alternate index (jump)\n",
    "print(slic[1:5:2]) ## start : stop : step"
   ]
  },
  {
   "cell_type": "code",
   "execution_count": 38,
   "id": "416430dc",
   "metadata": {},
   "outputs": [
    {
     "name": "stdout",
     "output_type": "stream",
     "text": [
      "4\n"
     ]
    }
   ],
   "source": [
    "## count function in list (frequency)\n",
    "cou=[1,2,3,3,4,4,5,5,6,6,6,6,8]\n",
    "print(cou.count(6))\n"
   ]
  },
  {
   "cell_type": "code",
   "execution_count": 39,
   "id": "9cc9985f",
   "metadata": {},
   "outputs": [
    {
     "name": "stdout",
     "output_type": "stream",
     "text": [
      "abhishek\n",
      "kumar\n",
      "mahli\n",
      "6\n",
      "9\n",
      "end of statement\n"
     ]
    }
   ],
   "source": [
    "## list looping\n",
    "a=['abhishek','kumar','mahli',6,9]\n",
    "for i in a:\n",
    "    print(i)\n",
    "print('end of statement')"
   ]
  },
  {
   "cell_type": "code",
   "execution_count": 44,
   "id": "b0e6bb54",
   "metadata": {},
   "outputs": [
    {
     "name": "stdout",
     "output_type": "stream",
     "text": [
      "[5]\n",
      "[5, 6]\n",
      "[5, 6, 7]\n",
      "[5, 6, 7, 8]\n",
      "[5, 6, 7, 8, 9]\n"
     ]
    }
   ],
   "source": [
    "## looping\n",
    "power=[]\n",
    "for i in range(5,10):\n",
    "    power.append(i)\n",
    "    print(power)"
   ]
  },
  {
   "cell_type": "code",
   "execution_count": 63,
   "id": "7b8349ca",
   "metadata": {},
   "outputs": [
    {
     "name": "stdout",
     "output_type": "stream",
     "text": [
      "[6, 9, 8, 7, 5, 5]\n",
      "[5, 10, 15, 30, 45, 40, 35, 20, 20, 25, 25]\n",
      "[(1, 2), (2, 4), (3, 6), (6, 12), (9, 18), (8, 16), (7, 14), (4, 8), (4, 8), (5, 10), (5, 10)]\n",
      "[(1, 1), (2, 8), (3, 27), (6, 216), (9, 729), (8, 512), (7, 343), (4, 64), (4, 64), (5, 125), (5, 125)]\n"
     ]
    }
   ],
   "source": [
    "## list comprehensions\n",
    "lsst=[1,2,3,6,9,8,7,4,4,5,5]\n",
    "power=[(h) for h in lsst if h>=5]\n",
    "x=[(i*5) for i in lsst ]\n",
    "y=[(i,i*2) for i in lsst]\n",
    "z=[(i,i**3) for i in lsst]\n",
    "print(power)\n",
    "print(x)\n",
    "print(y)\n",
    "print(z)"
   ]
  },
  {
   "cell_type": "code",
   "execution_count": 71,
   "id": "e42ef6e9",
   "metadata": {},
   "outputs": [
    {
     "name": "stdout",
     "output_type": "stream",
     "text": [
      "[1, 4, 7]\n",
      "[2, 5, 8]\n",
      "[3, 6, 9]\n",
      "[4, 7, 10]\n"
     ]
    }
   ],
   "source": [
    "## matrix \n",
    "\n",
    "matrix=[[1,2,3,4],\n",
    "       [4,5,6,7],\n",
    "       [7,8,9,10]]\n",
    "\n",
    "for i in range(0,4):\n",
    "    lst=[]\n",
    "    for row in matrix:\n",
    "        lst.append(row[i])\n",
    "    print(lst)"
   ]
  },
  {
   "cell_type": "code",
   "execution_count": null,
   "id": "6cd61aa5",
   "metadata": {},
   "outputs": [],
   "source": []
  }
 ],
 "metadata": {
  "kernelspec": {
   "display_name": "Python 3 (ipykernel)",
   "language": "python",
   "name": "python3"
  },
  "language_info": {
   "codemirror_mode": {
    "name": "ipython",
    "version": 3
   },
   "file_extension": ".py",
   "mimetype": "text/x-python",
   "name": "python",
   "nbconvert_exporter": "python",
   "pygments_lexer": "ipython3",
   "version": "3.9.12"
  }
 },
 "nbformat": 4,
 "nbformat_minor": 5
}
