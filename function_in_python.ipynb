{
  "nbformat": 4,
  "nbformat_minor": 0,
  "metadata": {
    "colab": {
      "provenance": [],
      "authorship_tag": "ABX9TyOrP2BOjFNRcejMFhqGdHnx",
      "include_colab_link": true
    },
    "kernelspec": {
      "name": "python3",
      "display_name": "Python 3"
    },
    "language_info": {
      "name": "python"
    }
  },
  "cells": [
    {
      "cell_type": "markdown",
      "metadata": {
        "id": "view-in-github",
        "colab_type": "text"
      },
      "source": [
        "<a href=\"https://colab.research.google.com/github/imabhishekmahli/Python-Lesson/blob/main/function_in_python.ipynb\" target=\"_parent\"><img src=\"https://colab.research.google.com/assets/colab-badge.svg\" alt=\"Open In Colab\"/></a>"
      ]
    },
    {
      "cell_type": "code",
      "execution_count": 10,
      "metadata": {
        "id": "Y3Upy7H_DrM-"
      },
      "outputs": [],
      "source": [
        "def is_even(num):\n",
        "\n",
        "  if type(num) == int:\n",
        "    if num%2==0:\n",
        "      return 'even'\n",
        "    else:\n",
        "      return 'odd'\n",
        "  else:\n",
        "    print(\"enter only integer\")"
      ]
    },
    {
      "cell_type": "code",
      "source": [
        "for i in range(1,11):\n",
        "    x=is_even(i)\n",
        "    print(x,i)"
      ],
      "metadata": {
        "colab": {
          "base_uri": "https://localhost:8080/"
        },
        "id": "9V5FeW27JeC4",
        "outputId": "f9a18b22-631b-4ba0-8e91-557870d62c6e"
      },
      "execution_count": 11,
      "outputs": [
        {
          "output_type": "stream",
          "name": "stdout",
          "text": [
            "odd 1\n",
            "even 2\n",
            "odd 3\n",
            "even 4\n",
            "odd 5\n",
            "even 6\n",
            "odd 7\n",
            "even 8\n",
            "odd 9\n",
            "even 10\n"
          ]
        }
      ]
    },
    {
      "cell_type": "code",
      "source": [
        "is_even(99)"
      ],
      "metadata": {
        "colab": {
          "base_uri": "https://localhost:8080/",
          "height": 36
        },
        "id": "s5aidZjAJnNq",
        "outputId": "0ec04c98-68da-42b7-9b0f-654807825d21"
      },
      "execution_count": 13,
      "outputs": [
        {
          "output_type": "execute_result",
          "data": {
            "text/plain": [
              "'odd'"
            ],
            "application/vnd.google.colaboratory.intrinsic+json": {
              "type": "string"
            }
          },
          "metadata": {},
          "execution_count": 13
        }
      ]
    },
    {
      "cell_type": "code",
      "source": [
        "# default argument\n",
        "\n",
        "def pwr(a,b):\n",
        "  return a**b"
      ],
      "metadata": {
        "id": "7-79Uk4jLpvo"
      },
      "execution_count": 14,
      "outputs": []
    },
    {
      "cell_type": "code",
      "source": [
        "pwr(2,3)"
      ],
      "metadata": {
        "colab": {
          "base_uri": "https://localhost:8080/"
        },
        "id": "mazhUKrGR05D",
        "outputId": "52e4723c-9e8a-4a2f-e9ef-9a41c6201ca0"
      },
      "execution_count": 15,
      "outputs": [
        {
          "output_type": "execute_result",
          "data": {
            "text/plain": [
              "8"
            ]
          },
          "metadata": {},
          "execution_count": 15
        }
      ]
    },
    {
      "cell_type": "code",
      "source": [
        "#keyword argument\n",
        "pwr(b=3,a=2)"
      ],
      "metadata": {
        "colab": {
          "base_uri": "https://localhost:8080/"
        },
        "id": "TTbC9_PvR2rf",
        "outputId": "94a669cc-c085-4d8a-a8a7-cd43e98929a6"
      },
      "execution_count": 16,
      "outputs": [
        {
          "output_type": "execute_result",
          "data": {
            "text/plain": [
              "8"
            ]
          },
          "metadata": {},
          "execution_count": 16
        }
      ]
    },
    {
      "cell_type": "code",
      "source": [
        "# args and kwargs\n",
        "\n",
        "def multi(*args):\n",
        "  product = 1\n",
        "\n",
        "  for i in args:\n",
        "    product = product * i\n",
        "  return product"
      ],
      "metadata": {
        "id": "3MPi-itsSAaG"
      },
      "execution_count": 17,
      "outputs": []
    },
    {
      "cell_type": "code",
      "source": [
        "multi(1,5,4,7,9,6)"
      ],
      "metadata": {
        "colab": {
          "base_uri": "https://localhost:8080/"
        },
        "id": "GSRVp_fQSQ89",
        "outputId": "fb398a56-f9e5-47da-b11f-391fe20cfc58"
      },
      "execution_count": 18,
      "outputs": [
        {
          "output_type": "execute_result",
          "data": {
            "text/plain": [
              "7560"
            ]
          },
          "metadata": {},
          "execution_count": 18
        }
      ]
    },
    {
      "cell_type": "code",
      "source": [
        "#kwargs\n",
        "\n",
        "def display(**kwargs):\n",
        "  for (i,j) in kwargs.items():\n",
        "    print(i,'->',j)"
      ],
      "metadata": {
        "id": "KhpouwvwSUDh"
      },
      "execution_count": 19,
      "outputs": []
    },
    {
      "cell_type": "code",
      "source": [
        "display(india='delhi',nepal='katmandu')"
      ],
      "metadata": {
        "colab": {
          "base_uri": "https://localhost:8080/"
        },
        "id": "sjkgsf2rVDc6",
        "outputId": "c937f8d7-d51e-44bb-eafd-e68347f3dbd3"
      },
      "execution_count": 20,
      "outputs": [
        {
          "output_type": "stream",
          "name": "stdout",
          "text": [
            "india -> delhi\n",
            "nepal -> katmandu\n"
          ]
        }
      ]
    },
    {
      "cell_type": "code",
      "source": [
        "# variable scope\n"
      ],
      "metadata": {
        "id": "tbi3tN2SVKKZ"
      },
      "execution_count": 21,
      "outputs": []
    },
    {
      "cell_type": "code",
      "source": [
        "def g(y):  # local variable\n",
        "  print(x)\n",
        "  print(x+1)\n",
        "\n",
        "x = 5  # global variable\n",
        "g(x)\n",
        "print(x)"
      ],
      "metadata": {
        "colab": {
          "base_uri": "https://localhost:8080/"
        },
        "id": "jsICPUW-C7tK",
        "outputId": "acb61f92-db37-44c8-b409-149859887e7d"
      },
      "execution_count": 22,
      "outputs": [
        {
          "output_type": "stream",
          "name": "stdout",
          "text": [
            "5\n",
            "6\n",
            "5\n"
          ]
        }
      ]
    },
    {
      "cell_type": "code",
      "source": [],
      "metadata": {
        "id": "8UX1-bVBDE0c"
      },
      "execution_count": null,
      "outputs": []
    }
  ]
}