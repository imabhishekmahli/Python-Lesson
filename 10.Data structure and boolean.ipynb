{
 "cells": [
  {
   "cell_type": "code",
   "execution_count": 9,
   "id": "4d085512",
   "metadata": {},
   "outputs": [],
   "source": [
    "my_name=\"abhishek\""
   ]
  },
  {
   "cell_type": "code",
   "execution_count": 10,
   "id": "0fab5c4a",
   "metadata": {},
   "outputs": [
    {
     "data": {
      "text/plain": [
       "True"
      ]
     },
     "execution_count": 10,
     "metadata": {},
     "output_type": "execute_result"
    }
   ],
   "source": [
    "my_name.endswith('k')"
   ]
  },
  {
   "cell_type": "code",
   "execution_count": 11,
   "id": "e485a9dc",
   "metadata": {},
   "outputs": [
    {
     "data": {
      "text/plain": [
       "True"
      ]
     },
     "execution_count": 11,
     "metadata": {},
     "output_type": "execute_result"
    }
   ],
   "source": [
    "my_name.islower()"
   ]
  },
  {
   "cell_type": "code",
   "execution_count": 12,
   "id": "68db9ffe",
   "metadata": {},
   "outputs": [
    {
     "data": {
      "text/plain": [
       "False"
      ]
     },
     "execution_count": 12,
     "metadata": {},
     "output_type": "execute_result"
    }
   ],
   "source": [
    "my_name.isupper()"
   ]
  },
  {
   "cell_type": "markdown",
   "id": "5d926a80",
   "metadata": {},
   "source": [
    "## boolean and logical operation"
   ]
  },
  {
   "cell_type": "code",
   "execution_count": 14,
   "id": "df991285",
   "metadata": {},
   "outputs": [
    {
     "data": {
      "text/plain": [
       "True"
      ]
     },
     "execution_count": 14,
     "metadata": {},
     "output_type": "execute_result"
    }
   ],
   "source": [
    "True and True"
   ]
  },
  {
   "cell_type": "code",
   "execution_count": 15,
   "id": "8d34b991",
   "metadata": {},
   "outputs": [
    {
     "data": {
      "text/plain": [
       "True"
      ]
     },
     "execution_count": 15,
     "metadata": {},
     "output_type": "execute_result"
    }
   ],
   "source": [
    "True or True"
   ]
  },
  {
   "cell_type": "code",
   "execution_count": 16,
   "id": "33816c32",
   "metadata": {},
   "outputs": [
    {
     "data": {
      "text/plain": [
       "False"
      ]
     },
     "execution_count": 16,
     "metadata": {},
     "output_type": "execute_result"
    }
   ],
   "source": [
    "True and False"
   ]
  },
  {
   "cell_type": "code",
   "execution_count": 17,
   "id": "3c455e63",
   "metadata": {},
   "outputs": [
    {
     "data": {
      "text/plain": [
       "True"
      ]
     },
     "execution_count": 17,
     "metadata": {},
     "output_type": "execute_result"
    }
   ],
   "source": [
    "True or False"
   ]
  },
  {
   "cell_type": "code",
   "execution_count": 18,
   "id": "77cd12cb",
   "metadata": {},
   "outputs": [],
   "source": [
    "first_name=\"abhishek\"\n",
    "last_name=\"kumar12\""
   ]
  },
  {
   "cell_type": "code",
   "execution_count": 21,
   "id": "3911e1a6",
   "metadata": {},
   "outputs": [
    {
     "data": {
      "text/plain": [
       "True"
      ]
     },
     "execution_count": 21,
     "metadata": {},
     "output_type": "execute_result"
    }
   ],
   "source": [
    "first_name.isalpha() or last_name.isnum()"
   ]
  },
  {
   "cell_type": "markdown",
   "id": "e18ec48d",
   "metadata": {},
   "source": [
    "## list"
   ]
  },
  {
   "cell_type": "code",
   "execution_count": 22,
   "id": "f438ec0e",
   "metadata": {},
   "outputs": [
    {
     "data": {
      "text/plain": [
       "list"
      ]
     },
     "execution_count": 22,
     "metadata": {},
     "output_type": "execute_result"
    }
   ],
   "source": [
    "list_of_movies=[]\n",
    "type(list_of_movies)"
   ]
  },
  {
   "cell_type": "code",
   "execution_count": 42,
   "id": "03560a42",
   "metadata": {},
   "outputs": [],
   "source": [
    "movies=['kgf','rrr','pushpa',4,123]"
   ]
  },
  {
   "cell_type": "code",
   "execution_count": 43,
   "id": "211ad0b2",
   "metadata": {},
   "outputs": [
    {
     "data": {
      "text/plain": [
       "list"
      ]
     },
     "execution_count": 43,
     "metadata": {},
     "output_type": "execute_result"
    }
   ],
   "source": [
    "type(movies)"
   ]
  },
  {
   "cell_type": "markdown",
   "id": "f43b023e",
   "metadata": {},
   "source": [
    "## append"
   ]
  },
  {
   "cell_type": "code",
   "execution_count": 44,
   "id": "edd2b025",
   "metadata": {},
   "outputs": [],
   "source": [
    "movies.append('kgf2')"
   ]
  },
  {
   "cell_type": "code",
   "execution_count": 45,
   "id": "75260b40",
   "metadata": {},
   "outputs": [
    {
     "data": {
      "text/plain": [
       "['kgf', 'rrr', 'pushpa', 4, 123, 'kgf2']"
      ]
     },
     "execution_count": 45,
     "metadata": {},
     "output_type": "execute_result"
    }
   ],
   "source": [
    "movies"
   ]
  },
  {
   "cell_type": "markdown",
   "id": "55453ed3",
   "metadata": {},
   "source": [
    "## inserting into particular index"
   ]
  },
  {
   "cell_type": "code",
   "execution_count": 29,
   "id": "b3eb1c7a",
   "metadata": {},
   "outputs": [],
   "source": [
    "movies.insert(1,'kgf3')"
   ]
  },
  {
   "cell_type": "code",
   "execution_count": 46,
   "id": "72113fb3",
   "metadata": {},
   "outputs": [
    {
     "data": {
      "text/plain": [
       "['kgf', 'rrr', 'pushpa', 4, 123, 'kgf2']"
      ]
     },
     "execution_count": 46,
     "metadata": {},
     "output_type": "execute_result"
    }
   ],
   "source": [
    "movies"
   ]
  },
  {
   "cell_type": "markdown",
   "id": "7f8fd493",
   "metadata": {},
   "source": [
    "## indexing"
   ]
  },
  {
   "cell_type": "code",
   "execution_count": 31,
   "id": "4eb6926e",
   "metadata": {},
   "outputs": [
    {
     "data": {
      "text/plain": [
       "'rrr'"
      ]
     },
     "execution_count": 31,
     "metadata": {},
     "output_type": "execute_result"
    }
   ],
   "source": [
    "movies[2]"
   ]
  },
  {
   "cell_type": "code",
   "execution_count": 32,
   "id": "a34cff2b",
   "metadata": {},
   "outputs": [
    {
     "data": {
      "text/plain": [
       "['kgf', 'kgf3', 'rrr', 'pushpa', 4, 123, 'kgf2', 'kgf2']"
      ]
     },
     "execution_count": 32,
     "metadata": {},
     "output_type": "execute_result"
    }
   ],
   "source": [
    "movies[:]"
   ]
  },
  {
   "cell_type": "code",
   "execution_count": 33,
   "id": "4906c021",
   "metadata": {},
   "outputs": [
    {
     "data": {
      "text/plain": [
       "['kgf3', 'rrr', 'pushpa', 4, 123]"
      ]
     },
     "execution_count": 33,
     "metadata": {},
     "output_type": "execute_result"
    }
   ],
   "source": [
    "movies[1:6]"
   ]
  },
  {
   "cell_type": "markdown",
   "id": "d89d06cc",
   "metadata": {},
   "source": [
    "## difference between append and extend"
   ]
  },
  {
   "cell_type": "code",
   "execution_count": 47,
   "id": "3d00b2b6",
   "metadata": {},
   "outputs": [
    {
     "data": {
      "text/plain": [
       "['kgf', 'rrr', 'pushpa', 4, 123, 'kgf2']"
      ]
     },
     "execution_count": 47,
     "metadata": {},
     "output_type": "execute_result"
    }
   ],
   "source": [
    "movies"
   ]
  },
  {
   "cell_type": "code",
   "execution_count": 48,
   "id": "bd32aad9",
   "metadata": {},
   "outputs": [],
   "source": [
    "movies.extend(['deewar','sholay'])"
   ]
  },
  {
   "cell_type": "code",
   "execution_count": 49,
   "id": "ddb31ed7",
   "metadata": {},
   "outputs": [
    {
     "data": {
      "text/plain": [
       "['kgf', 'rrr', 'pushpa', 4, 123, 'kgf2', 'deewar', 'sholay']"
      ]
     },
     "execution_count": 49,
     "metadata": {},
     "output_type": "execute_result"
    }
   ],
   "source": [
    "movies"
   ]
  },
  {
   "cell_type": "markdown",
   "id": "67df83de",
   "metadata": {},
   "source": [
    "## poping elements"
   ]
  },
  {
   "cell_type": "code",
   "execution_count": 50,
   "id": "0de2009c",
   "metadata": {},
   "outputs": [
    {
     "data": {
      "text/plain": [
       "'rrr'"
      ]
     },
     "execution_count": 50,
     "metadata": {},
     "output_type": "execute_result"
    }
   ],
   "source": [
    "movies.pop(1)"
   ]
  },
  {
   "cell_type": "code",
   "execution_count": 51,
   "id": "90679c36",
   "metadata": {},
   "outputs": [
    {
     "data": {
      "text/plain": [
       "['kgf', 'pushpa', 4, 123, 'kgf2', 'deewar', 'sholay']"
      ]
     },
     "execution_count": 51,
     "metadata": {},
     "output_type": "execute_result"
    }
   ],
   "source": [
    "movies"
   ]
  },
  {
   "cell_type": "code",
   "execution_count": 53,
   "id": "7f0cd8a0",
   "metadata": {},
   "outputs": [],
   "source": [
    "movies.insert(1,'rrr')"
   ]
  },
  {
   "cell_type": "code",
   "execution_count": 54,
   "id": "49b100a3",
   "metadata": {},
   "outputs": [
    {
     "data": {
      "text/plain": [
       "['kgf', 'rrr', 'pushpa', 4, 123, 'kgf2', 'deewar', 'sholay']"
      ]
     },
     "execution_count": 54,
     "metadata": {},
     "output_type": "execute_result"
    }
   ],
   "source": [
    "movies"
   ]
  },
  {
   "cell_type": "code",
   "execution_count": 55,
   "id": "bcccc8c5",
   "metadata": {},
   "outputs": [
    {
     "data": {
      "text/plain": [
       "'deewar'"
      ]
     },
     "execution_count": 55,
     "metadata": {},
     "output_type": "execute_result"
    }
   ],
   "source": [
    "movies.pop(6)"
   ]
  },
  {
   "cell_type": "code",
   "execution_count": 56,
   "id": "52486e61",
   "metadata": {},
   "outputs": [
    {
     "data": {
      "text/plain": [
       "'sholay'"
      ]
     },
     "execution_count": 56,
     "metadata": {},
     "output_type": "execute_result"
    }
   ],
   "source": [
    "movies.pop(6)"
   ]
  },
  {
   "cell_type": "code",
   "execution_count": 57,
   "id": "00d2216e",
   "metadata": {},
   "outputs": [
    {
     "data": {
      "text/plain": [
       "['kgf', 'rrr', 'pushpa', 4, 123, 'kgf2']"
      ]
     },
     "execution_count": 57,
     "metadata": {},
     "output_type": "execute_result"
    }
   ],
   "source": [
    "movies"
   ]
  },
  {
   "cell_type": "markdown",
   "id": "ba34938f",
   "metadata": {},
   "source": [
    "## count // total occurance of the element"
   ]
  },
  {
   "cell_type": "code",
   "execution_count": 58,
   "id": "ca46ea68",
   "metadata": {},
   "outputs": [],
   "source": [
    "movies.append('kgf')"
   ]
  },
  {
   "cell_type": "code",
   "execution_count": 59,
   "id": "6cb24763",
   "metadata": {},
   "outputs": [
    {
     "data": {
      "text/plain": [
       "['kgf', 'rrr', 'pushpa', 4, 123, 'kgf2', 'kgf']"
      ]
     },
     "execution_count": 59,
     "metadata": {},
     "output_type": "execute_result"
    }
   ],
   "source": [
    "movies"
   ]
  },
  {
   "cell_type": "code",
   "execution_count": 60,
   "id": "42e15eb4",
   "metadata": {},
   "outputs": [
    {
     "data": {
      "text/plain": [
       "2"
      ]
     },
     "execution_count": 60,
     "metadata": {},
     "output_type": "execute_result"
    }
   ],
   "source": [
    ".count('kgf')"
   ]
  },
  {
   "cell_type": "markdown",
   "id": "efe7e205",
   "metadata": {},
   "source": [
    "## element is present at which index"
   ]
  },
  {
   "cell_type": "code",
   "execution_count": 64,
   "id": "6f97d783",
   "metadata": {},
   "outputs": [
    {
     "data": {
      "text/plain": [
       "5"
      ]
     },
     "execution_count": 64,
     "metadata": {},
     "output_type": "execute_result"
    }
   ],
   "source": [
    "movies.index('kgf2',2,6)"
   ]
  },
  {
   "cell_type": "code",
   "execution_count": null,
   "id": "c36ed9e3",
   "metadata": {},
   "outputs": [],
   "source": []
  }
 ],
 "metadata": {
  "kernelspec": {
   "display_name": "Python 3 (ipykernel)",
   "language": "python",
   "name": "python3"
  },
  "language_info": {
   "codemirror_mode": {
    "name": "ipython",
    "version": 3
   },
   "file_extension": ".py",
   "mimetype": "text/x-python",
   "name": "python",
   "nbconvert_exporter": "python",
   "pygments_lexer": "ipython3",
   "version": "3.9.12"
  }
 },
 "nbformat": 4,
 "nbformat_minor": 5
}
