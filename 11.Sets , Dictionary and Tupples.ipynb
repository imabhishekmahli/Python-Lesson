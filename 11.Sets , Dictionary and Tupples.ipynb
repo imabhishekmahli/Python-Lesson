{
 "cells": [
  {
   "cell_type": "markdown",
   "id": "70c8a895",
   "metadata": {},
   "source": [
    "## sets "
   ]
  },
  {
   "cell_type": "code",
   "execution_count": 1,
   "id": "186fb1a8",
   "metadata": {},
   "outputs": [
    {
     "name": "stdout",
     "output_type": "stream",
     "text": [
      "set()\n"
     ]
    }
   ],
   "source": [
    "set_var=set()\n",
    "print(set_var)"
   ]
  },
  {
   "cell_type": "code",
   "execution_count": 3,
   "id": "12de6337",
   "metadata": {},
   "outputs": [
    {
     "name": "stdout",
     "output_type": "stream",
     "text": [
      "<class 'set'>\n"
     ]
    }
   ],
   "source": [
    "print(type(set_var))"
   ]
  },
  {
   "cell_type": "code",
   "execution_count": 4,
   "id": "03323028",
   "metadata": {},
   "outputs": [
    {
     "data": {
      "text/plain": [
       "{1, 2, 3, 4, 5, 6}"
      ]
     },
     "execution_count": 4,
     "metadata": {},
     "output_type": "execute_result"
    }
   ],
   "source": [
    "# set doesn't take dublicate value      ## set doesn't have indexing things\n",
    "set_1={1,2,3,4,3,5,6,2}\n",
    "set_1"
   ]
  },
  {
   "cell_type": "code",
   "execution_count": 5,
   "id": "17bf6f4b",
   "metadata": {},
   "outputs": [
    {
     "name": "stdout",
     "output_type": "stream",
     "text": [
      "{'kgf2', 'kgf', 'rrr', 'pushpa'}\n"
     ]
    }
   ],
   "source": [
    "set_movies={'kgf','kgf2','rrr','pushpa'}\n",
    "print(set_movies)"
   ]
  },
  {
   "cell_type": "code",
   "execution_count": 6,
   "id": "86cf46ba",
   "metadata": {},
   "outputs": [
    {
     "data": {
      "text/plain": [
       "set"
      ]
     },
     "execution_count": 6,
     "metadata": {},
     "output_type": "execute_result"
    }
   ],
   "source": [
    "type(set_movies)"
   ]
  },
  {
   "cell_type": "code",
   "execution_count": 8,
   "id": "a38c21c7",
   "metadata": {},
   "outputs": [],
   "source": [
    "## inbuilt function of set\n",
    "set_movies.add('pushpa 2')"
   ]
  },
  {
   "cell_type": "code",
   "execution_count": 9,
   "id": "4de9ee55",
   "metadata": {},
   "outputs": [
    {
     "data": {
      "text/plain": [
       "{'kgf', 'kgf2', 'pushpa', 'pushpa 2', 'rrr'}"
      ]
     },
     "execution_count": 9,
     "metadata": {},
     "output_type": "execute_result"
    }
   ],
   "source": [
    "set_movies"
   ]
  },
  {
   "cell_type": "code",
   "execution_count": 10,
   "id": "5fa4987c",
   "metadata": {},
   "outputs": [],
   "source": [
    "set_movies.add('ABCD')"
   ]
  },
  {
   "cell_type": "code",
   "execution_count": 11,
   "id": "2b32fffa",
   "metadata": {},
   "outputs": [
    {
     "data": {
      "text/plain": [
       "{'ABCD', 'kgf', 'kgf2', 'pushpa', 'pushpa 2', 'rrr'}"
      ]
     },
     "execution_count": 11,
     "metadata": {},
     "output_type": "execute_result"
    }
   ],
   "source": [
    "set_movies"
   ]
  },
  {
   "cell_type": "code",
   "execution_count": 12,
   "id": "ef1445b6",
   "metadata": {},
   "outputs": [],
   "source": [
    "set_10={'jharkhand','bihar','up','karnataka','rajasthan'}\n",
    "set_20={'maharastra','madhya pradesh','j&k','jharkhand','up'}"
   ]
  },
  {
   "cell_type": "code",
   "execution_count": 23,
   "id": "0547820e",
   "metadata": {},
   "outputs": [],
   "source": [
    "set_20.discard(set_10)"
   ]
  },
  {
   "cell_type": "code",
   "execution_count": 25,
   "id": "356d8703",
   "metadata": {},
   "outputs": [
    {
     "data": {
      "text/plain": [
       "{'bihar', 'jharkhand', 'karnataka', 'rajasthan', 'up'}"
      ]
     },
     "execution_count": 25,
     "metadata": {},
     "output_type": "execute_result"
    }
   ],
   "source": [
    "set_10"
   ]
  },
  {
   "cell_type": "markdown",
   "id": "26089e42",
   "metadata": {},
   "source": [
    "## Dictionary "
   ]
  },
  {
   "cell_type": "code",
   "execution_count": 26,
   "id": "e7ef37cb",
   "metadata": {},
   "outputs": [],
   "source": [
    "dict_car={\"car_1\":\"bmw\",\"car_2\":\"mercedese\",\"car_3\":\"suzuki\"}"
   ]
  },
  {
   "cell_type": "code",
   "execution_count": 27,
   "id": "b46dae69",
   "metadata": {},
   "outputs": [
    {
     "data": {
      "text/plain": [
       "dict"
      ]
     },
     "execution_count": 27,
     "metadata": {},
     "output_type": "execute_result"
    }
   ],
   "source": [
    "type(dict_car)"
   ]
  },
  {
   "cell_type": "code",
   "execution_count": 28,
   "id": "0fe51489",
   "metadata": {},
   "outputs": [
    {
     "data": {
      "text/plain": [
       "{'car_1': 'bmw', 'car_2': 'mercedese', 'car_3': 'suzuki'}"
      ]
     },
     "execution_count": 28,
     "metadata": {},
     "output_type": "execute_result"
    }
   ],
   "source": [
    "dict_car"
   ]
  },
  {
   "cell_type": "code",
   "execution_count": 31,
   "id": "465ba347",
   "metadata": {},
   "outputs": [
    {
     "data": {
      "text/plain": [
       "dict_items([('car_1', 'bmw'), ('car_2', 'mercedese'), ('car_3', 'suzuki')])"
      ]
     },
     "execution_count": 31,
     "metadata": {},
     "output_type": "execute_result"
    }
   ],
   "source": [
    "dict_car.items()"
   ]
  },
  {
   "cell_type": "code",
   "execution_count": 33,
   "id": "212e2bc4",
   "metadata": {},
   "outputs": [
    {
     "data": {
      "text/plain": [
       "'bmw'"
      ]
     },
     "execution_count": 33,
     "metadata": {},
     "output_type": "execute_result"
    }
   ],
   "source": [
    "dict_car['car_1']"
   ]
  },
  {
   "cell_type": "code",
   "execution_count": 36,
   "id": "0b7be124",
   "metadata": {},
   "outputs": [
    {
     "name": "stdout",
     "output_type": "stream",
     "text": [
      "car_1\n",
      "car_2\n",
      "car_3\n"
     ]
    }
   ],
   "source": [
    "for x in dict_car:\n",
    "    print(x)"
   ]
  },
  {
   "cell_type": "code",
   "execution_count": 38,
   "id": "7069ff7e",
   "metadata": {},
   "outputs": [
    {
     "name": "stdout",
     "output_type": "stream",
     "text": [
      "bmw\n",
      "mercedese\n",
      "suzuki\n"
     ]
    }
   ],
   "source": [
    "for x in dict_car.values():\n",
    "    print(x)"
   ]
  },
  {
   "cell_type": "code",
   "execution_count": 37,
   "id": "76adfc31",
   "metadata": {},
   "outputs": [
    {
     "name": "stdout",
     "output_type": "stream",
     "text": [
      "('car_1', 'bmw')\n",
      "('car_2', 'mercedese')\n",
      "('car_3', 'suzuki')\n"
     ]
    }
   ],
   "source": [
    "for x in dict_car.items():\n",
    "    print(x)"
   ]
  },
  {
   "cell_type": "code",
   "execution_count": 42,
   "id": "5bdc037a",
   "metadata": {},
   "outputs": [
    {
     "name": "stdout",
     "output_type": "stream",
     "text": [
      "bmw\n",
      "mercedese\n",
      "suzuki\n"
     ]
    }
   ],
   "source": [
    "for x in dict_car.values():\n",
    "    print(x)"
   ]
  },
  {
   "cell_type": "code",
   "execution_count": 43,
   "id": "30e3d122",
   "metadata": {},
   "outputs": [],
   "source": [
    "dict_car['car_4']='audi'"
   ]
  },
  {
   "cell_type": "code",
   "execution_count": 44,
   "id": "402ebee7",
   "metadata": {},
   "outputs": [
    {
     "data": {
      "text/plain": [
       "{'car_1': 'bmw', 'car_2': 'mercedese', 'car_3': 'suzuki', 'car_4': 'audi'}"
      ]
     },
     "execution_count": 44,
     "metadata": {},
     "output_type": "execute_result"
    }
   ],
   "source": [
    "dict_car"
   ]
  },
  {
   "cell_type": "code",
   "execution_count": 46,
   "id": "b0214591",
   "metadata": {},
   "outputs": [
    {
     "name": "stdout",
     "output_type": "stream",
     "text": [
      "bmw\n",
      "mercedese\n",
      "suzuki\n",
      "audi\n"
     ]
    }
   ],
   "source": [
    "for x in dict_car.values():\n",
    "    print(x)"
   ]
  },
  {
   "cell_type": "code",
   "execution_count": 47,
   "id": "07aa4cdf",
   "metadata": {},
   "outputs": [],
   "source": [
    "dict_car['car_5']='bmw 2.0'"
   ]
  },
  {
   "cell_type": "code",
   "execution_count": 48,
   "id": "46484d2c",
   "metadata": {},
   "outputs": [
    {
     "name": "stdout",
     "output_type": "stream",
     "text": [
      "('car_1', 'bmw')\n",
      "('car_2', 'mercedese')\n",
      "('car_3', 'suzuki')\n",
      "('car_4', 'audi')\n",
      "('car_5', 'bmw 2.0')\n"
     ]
    }
   ],
   "source": [
    "for x in dict_car.items():\n",
    "    print(x)"
   ]
  },
  {
   "cell_type": "code",
   "execution_count": 50,
   "id": "f1b4dbfc",
   "metadata": {},
   "outputs": [
    {
     "data": {
      "text/plain": [
       "{'car_1': 'maruti',\n",
       " 'car_2': 'mercedese',\n",
       " 'car_3': 'suzuki',\n",
       " 'car_4': 'audi',\n",
       " 'car_5': 'bmw 2.0'}"
      ]
     },
     "execution_count": 50,
     "metadata": {},
     "output_type": "execute_result"
    }
   ],
   "source": [
    "## if we assigned values to same index value will get replaced\n",
    "\n",
    "dict_car['car_1']='maruti'\n",
    "dict_car"
   ]
  },
  {
   "cell_type": "markdown",
   "id": "1fb8505f",
   "metadata": {},
   "source": [
    "## nested dictionary"
   ]
  },
  {
   "cell_type": "code",
   "execution_count": 55,
   "id": "b26299e5",
   "metadata": {},
   "outputs": [],
   "source": [
    "dict_movie={'kgf 1':2017}\n",
    "dict_movie_2={'kgf 2':2022}\n",
    "dict_movie_3={'rrr':2022}\n",
    "\n",
    "movie_type={'movie_1':dict_movie,'movie_2':dict_movie_2,'movie_3':dict_movie_3}"
   ]
  },
  {
   "cell_type": "code",
   "execution_count": 56,
   "id": "7f3198a4",
   "metadata": {},
   "outputs": [
    {
     "data": {
      "text/plain": [
       "{'movie_1': {'kgf 1': 2017},\n",
       " 'movie_2': {'kgf 2': 2022},\n",
       " 'movie_3': {'rrr': 2022}}"
      ]
     },
     "execution_count": 56,
     "metadata": {},
     "output_type": "execute_result"
    }
   ],
   "source": [
    "movie_type"
   ]
  },
  {
   "cell_type": "code",
   "execution_count": 57,
   "id": "1f613618",
   "metadata": {},
   "outputs": [
    {
     "name": "stdout",
     "output_type": "stream",
     "text": [
      "('movie_1', {'kgf 1': 2017})\n",
      "('movie_2', {'kgf 2': 2022})\n",
      "('movie_3', {'rrr': 2022})\n"
     ]
    }
   ],
   "source": [
    "for x in movie_type.items():\n",
    "    print(x)"
   ]
  },
  {
   "cell_type": "code",
   "execution_count": 60,
   "id": "f2b0e216",
   "metadata": {},
   "outputs": [
    {
     "name": "stdout",
     "output_type": "stream",
     "text": [
      "{'kgf 2': 2022}\n"
     ]
    }
   ],
   "source": [
    "print(movie_type['movie_2'])"
   ]
  },
  {
   "cell_type": "code",
   "execution_count": 61,
   "id": "a5971cb6",
   "metadata": {},
   "outputs": [
    {
     "name": "stdout",
     "output_type": "stream",
     "text": [
      "2022\n"
     ]
    }
   ],
   "source": [
    "print(movie_type['movie_2']['kgf 2'])"
   ]
  },
  {
   "cell_type": "markdown",
   "id": "0762ccb9",
   "metadata": {},
   "source": [
    "## tuples"
   ]
  },
  {
   "cell_type": "code",
   "execution_count": 62,
   "id": "ffffbdf4",
   "metadata": {},
   "outputs": [
    {
     "data": {
      "text/plain": [
       "('abhishek', 'kumar', 'mahli')"
      ]
     },
     "execution_count": 62,
     "metadata": {},
     "output_type": "execute_result"
    }
   ],
   "source": [
    "name=('abhishek','kumar','mahli')\n",
    "name"
   ]
  },
  {
   "cell_type": "code",
   "execution_count": 64,
   "id": "aff4bbaa",
   "metadata": {},
   "outputs": [
    {
     "data": {
      "text/plain": [
       "<function tuple.count(value, /)>"
      ]
     },
     "execution_count": 64,
     "metadata": {},
     "output_type": "execute_result"
    }
   ],
   "source": [
    "name.count"
   ]
  },
  {
   "cell_type": "code",
   "execution_count": 65,
   "id": "06eab398",
   "metadata": {},
   "outputs": [
    {
     "data": {
      "text/plain": [
       "tuple"
      ]
     },
     "execution_count": 65,
     "metadata": {},
     "output_type": "execute_result"
    }
   ],
   "source": [
    "type(name)"
   ]
  },
  {
   "cell_type": "code",
   "execution_count": 66,
   "id": "7d3f7373",
   "metadata": {},
   "outputs": [
    {
     "data": {
      "text/plain": [
       "1"
      ]
     },
     "execution_count": 66,
     "metadata": {},
     "output_type": "execute_result"
    }
   ],
   "source": [
    "name.count('abhishek')"
   ]
  },
  {
   "cell_type": "code",
   "execution_count": 68,
   "id": "47cb93ae",
   "metadata": {},
   "outputs": [
    {
     "data": {
      "text/plain": [
       "2"
      ]
     },
     "execution_count": 68,
     "metadata": {},
     "output_type": "execute_result"
    }
   ],
   "source": [
    "name.index('mahli')"
   ]
  },
  {
   "cell_type": "code",
   "execution_count": null,
   "id": "28106bcc",
   "metadata": {},
   "outputs": [],
   "source": []
  }
 ],
 "metadata": {
  "kernelspec": {
   "display_name": "Python 3 (ipykernel)",
   "language": "python",
   "name": "python3"
  },
  "language_info": {
   "codemirror_mode": {
    "name": "ipython",
    "version": 3
   },
   "file_extension": ".py",
   "mimetype": "text/x-python",
   "name": "python",
   "nbconvert_exporter": "python",
   "pygments_lexer": "ipython3",
   "version": "3.9.12"
  }
 },
 "nbformat": 4,
 "nbformat_minor": 5
}
